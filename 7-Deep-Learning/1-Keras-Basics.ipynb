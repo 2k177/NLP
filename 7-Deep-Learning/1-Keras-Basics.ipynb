{
 "cells": [
  {
   "cell_type": "markdown",
   "metadata": {},
   "source": [
    "# Keras Basics\n",
    "\n",
    "Keras with a TensorFlow backend to perform our deep learning operations.\n",
    "\n",
    "This means we should get familiar with some Keras fundamentals and basics!\n",
    "\n",
    "## Imports\n",
    "\n"
   ]
  },
  {
   "cell_type": "code",
   "execution_count": 1,
   "metadata": {},
   "outputs": [],
   "source": [
    "import numpy as np"
   ]
  },
  {
   "cell_type": "markdown",
   "metadata": {},
   "source": [
    "## Dataset\n",
    "\n",
    "We will use the famous Iris Data set.\n",
    "_____\n",
    "More info on the data set:\n",
    "https://en.wikipedia.org/wiki/Iris_flower_data_set\n",
    "\n",
    "## Reading in the Data Set\n",
    "\n",
    "We've already downloaded the dataset, its in this folder. So let's open it up. "
   ]
  },
  {
   "cell_type": "code",
   "execution_count": 2,
   "metadata": {},
   "outputs": [],
   "source": [
    "from sklearn.datasets import load_iris"
   ]
  },
  {
   "cell_type": "code",
   "execution_count": 3,
   "metadata": {},
   "outputs": [],
   "source": [
    "iris = load_iris()"
   ]
  },
  {
   "cell_type": "code",
   "execution_count": 5,
   "metadata": {},
   "outputs": [
    {
     "data": {
      "text/plain": [
       "sklearn.utils._bunch.Bunch"
      ]
     },
     "execution_count": 5,
     "metadata": {},
     "output_type": "execute_result"
    }
   ],
   "source": [
    "type(iris)"
   ]
  },
  {
   "cell_type": "code",
   "execution_count": 6,
   "metadata": {},
   "outputs": [
    {
     "name": "stdout",
     "output_type": "stream",
     "text": [
      ".. _iris_dataset:\n",
      "\n",
      "Iris plants dataset\n",
      "--------------------\n",
      "\n",
      "**Data Set Characteristics:**\n",
      "\n",
      "    :Number of Instances: 150 (50 in each of three classes)\n",
      "    :Number of Attributes: 4 numeric, predictive attributes and the class\n",
      "    :Attribute Information:\n",
      "        - sepal length in cm\n",
      "        - sepal width in cm\n",
      "        - petal length in cm\n",
      "        - petal width in cm\n",
      "        - class:\n",
      "                - Iris-Setosa\n",
      "                - Iris-Versicolour\n",
      "                - Iris-Virginica\n",
      "                \n",
      "    :Summary Statistics:\n",
      "\n",
      "    ============== ==== ==== ======= ===== ====================\n",
      "                    Min  Max   Mean    SD   Class Correlation\n",
      "    ============== ==== ==== ======= ===== ====================\n",
      "    sepal length:   4.3  7.9   5.84   0.83    0.7826\n",
      "    sepal width:    2.0  4.4   3.05   0.43   -0.4194\n",
      "    petal length:   1.0  6.9   3.76   1.76    0.9490  (high!)\n",
      "    petal width:    0.1  2.5   1.20   0.76    0.9565  (high!)\n",
      "    ============== ==== ==== ======= ===== ====================\n",
      "\n",
      "    :Missing Attribute Values: None\n",
      "    :Class Distribution: 33.3% for each of 3 classes.\n",
      "    :Creator: R.A. Fisher\n",
      "    :Donor: Michael Marshall (MARSHALL%PLU@io.arc.nasa.gov)\n",
      "    :Date: July, 1988\n",
      "\n",
      "The famous Iris database, first used by Sir R.A. Fisher. The dataset is taken\n",
      "from Fisher's paper. Note that it's the same as in R, but not as in the UCI\n",
      "Machine Learning Repository, which has two wrong data points.\n",
      "\n",
      "This is perhaps the best known database to be found in the\n",
      "pattern recognition literature.  Fisher's paper is a classic in the field and\n",
      "is referenced frequently to this day.  (See Duda & Hart, for example.)  The\n",
      "data set contains 3 classes of 50 instances each, where each class refers to a\n",
      "type of iris plant.  One class is linearly separable from the other 2; the\n",
      "latter are NOT linearly separable from each other.\n",
      "\n",
      ".. topic:: References\n",
      "\n",
      "   - Fisher, R.A. \"The use of multiple measurements in taxonomic problems\"\n",
      "     Annual Eugenics, 7, Part II, 179-188 (1936); also in \"Contributions to\n",
      "     Mathematical Statistics\" (John Wiley, NY, 1950).\n",
      "   - Duda, R.O., & Hart, P.E. (1973) Pattern Classification and Scene Analysis.\n",
      "     (Q327.D83) John Wiley & Sons.  ISBN 0-471-22361-1.  See page 218.\n",
      "   - Dasarathy, B.V. (1980) \"Nosing Around the Neighborhood: A New System\n",
      "     Structure and Classification Rule for Recognition in Partially Exposed\n",
      "     Environments\".  IEEE Transactions on Pattern Analysis and Machine\n",
      "     Intelligence, Vol. PAMI-2, No. 1, 67-71.\n",
      "   - Gates, G.W. (1972) \"The Reduced Nearest Neighbor Rule\".  IEEE Transactions\n",
      "     on Information Theory, May 1972, 431-433.\n",
      "   - See also: 1988 MLC Proceedings, 54-64.  Cheeseman et al\"s AUTOCLASS II\n",
      "     conceptual clustering system finds 3 classes in the data.\n",
      "   - Many, many more ...\n"
     ]
    }
   ],
   "source": [
    "print(iris.DESCR)"
   ]
  },
  {
   "cell_type": "code",
   "execution_count": 7,
   "metadata": {},
   "outputs": [],
   "source": [
    "X = iris.data"
   ]
  },
  {
   "cell_type": "code",
   "execution_count": 8,
   "metadata": {},
   "outputs": [
    {
     "data": {
      "text/plain": [
       "array([[5.1, 3.5, 1.4, 0.2],\n",
       "       [4.9, 3. , 1.4, 0.2],\n",
       "       [4.7, 3.2, 1.3, 0.2],\n",
       "       [4.6, 3.1, 1.5, 0.2],\n",
       "       [5. , 3.6, 1.4, 0.2],\n",
       "       [5.4, 3.9, 1.7, 0.4],\n",
       "       [4.6, 3.4, 1.4, 0.3],\n",
       "       [5. , 3.4, 1.5, 0.2],\n",
       "       [4.4, 2.9, 1.4, 0.2],\n",
       "       [4.9, 3.1, 1.5, 0.1],\n",
       "       [5.4, 3.7, 1.5, 0.2],\n",
       "       [4.8, 3.4, 1.6, 0.2],\n",
       "       [4.8, 3. , 1.4, 0.1],\n",
       "       [4.3, 3. , 1.1, 0.1],\n",
       "       [5.8, 4. , 1.2, 0.2],\n",
       "       [5.7, 4.4, 1.5, 0.4],\n",
       "       [5.4, 3.9, 1.3, 0.4],\n",
       "       [5.1, 3.5, 1.4, 0.3],\n",
       "       [5.7, 3.8, 1.7, 0.3],\n",
       "       [5.1, 3.8, 1.5, 0.3],\n",
       "       [5.4, 3.4, 1.7, 0.2],\n",
       "       [5.1, 3.7, 1.5, 0.4],\n",
       "       [4.6, 3.6, 1. , 0.2],\n",
       "       [5.1, 3.3, 1.7, 0.5],\n",
       "       [4.8, 3.4, 1.9, 0.2],\n",
       "       [5. , 3. , 1.6, 0.2],\n",
       "       [5. , 3.4, 1.6, 0.4],\n",
       "       [5.2, 3.5, 1.5, 0.2],\n",
       "       [5.2, 3.4, 1.4, 0.2],\n",
       "       [4.7, 3.2, 1.6, 0.2],\n",
       "       [4.8, 3.1, 1.6, 0.2],\n",
       "       [5.4, 3.4, 1.5, 0.4],\n",
       "       [5.2, 4.1, 1.5, 0.1],\n",
       "       [5.5, 4.2, 1.4, 0.2],\n",
       "       [4.9, 3.1, 1.5, 0.2],\n",
       "       [5. , 3.2, 1.2, 0.2],\n",
       "       [5.5, 3.5, 1.3, 0.2],\n",
       "       [4.9, 3.6, 1.4, 0.1],\n",
       "       [4.4, 3. , 1.3, 0.2],\n",
       "       [5.1, 3.4, 1.5, 0.2],\n",
       "       [5. , 3.5, 1.3, 0.3],\n",
       "       [4.5, 2.3, 1.3, 0.3],\n",
       "       [4.4, 3.2, 1.3, 0.2],\n",
       "       [5. , 3.5, 1.6, 0.6],\n",
       "       [5.1, 3.8, 1.9, 0.4],\n",
       "       [4.8, 3. , 1.4, 0.3],\n",
       "       [5.1, 3.8, 1.6, 0.2],\n",
       "       [4.6, 3.2, 1.4, 0.2],\n",
       "       [5.3, 3.7, 1.5, 0.2],\n",
       "       [5. , 3.3, 1.4, 0.2],\n",
       "       [7. , 3.2, 4.7, 1.4],\n",
       "       [6.4, 3.2, 4.5, 1.5],\n",
       "       [6.9, 3.1, 4.9, 1.5],\n",
       "       [5.5, 2.3, 4. , 1.3],\n",
       "       [6.5, 2.8, 4.6, 1.5],\n",
       "       [5.7, 2.8, 4.5, 1.3],\n",
       "       [6.3, 3.3, 4.7, 1.6],\n",
       "       [4.9, 2.4, 3.3, 1. ],\n",
       "       [6.6, 2.9, 4.6, 1.3],\n",
       "       [5.2, 2.7, 3.9, 1.4],\n",
       "       [5. , 2. , 3.5, 1. ],\n",
       "       [5.9, 3. , 4.2, 1.5],\n",
       "       [6. , 2.2, 4. , 1. ],\n",
       "       [6.1, 2.9, 4.7, 1.4],\n",
       "       [5.6, 2.9, 3.6, 1.3],\n",
       "       [6.7, 3.1, 4.4, 1.4],\n",
       "       [5.6, 3. , 4.5, 1.5],\n",
       "       [5.8, 2.7, 4.1, 1. ],\n",
       "       [6.2, 2.2, 4.5, 1.5],\n",
       "       [5.6, 2.5, 3.9, 1.1],\n",
       "       [5.9, 3.2, 4.8, 1.8],\n",
       "       [6.1, 2.8, 4. , 1.3],\n",
       "       [6.3, 2.5, 4.9, 1.5],\n",
       "       [6.1, 2.8, 4.7, 1.2],\n",
       "       [6.4, 2.9, 4.3, 1.3],\n",
       "       [6.6, 3. , 4.4, 1.4],\n",
       "       [6.8, 2.8, 4.8, 1.4],\n",
       "       [6.7, 3. , 5. , 1.7],\n",
       "       [6. , 2.9, 4.5, 1.5],\n",
       "       [5.7, 2.6, 3.5, 1. ],\n",
       "       [5.5, 2.4, 3.8, 1.1],\n",
       "       [5.5, 2.4, 3.7, 1. ],\n",
       "       [5.8, 2.7, 3.9, 1.2],\n",
       "       [6. , 2.7, 5.1, 1.6],\n",
       "       [5.4, 3. , 4.5, 1.5],\n",
       "       [6. , 3.4, 4.5, 1.6],\n",
       "       [6.7, 3.1, 4.7, 1.5],\n",
       "       [6.3, 2.3, 4.4, 1.3],\n",
       "       [5.6, 3. , 4.1, 1.3],\n",
       "       [5.5, 2.5, 4. , 1.3],\n",
       "       [5.5, 2.6, 4.4, 1.2],\n",
       "       [6.1, 3. , 4.6, 1.4],\n",
       "       [5.8, 2.6, 4. , 1.2],\n",
       "       [5. , 2.3, 3.3, 1. ],\n",
       "       [5.6, 2.7, 4.2, 1.3],\n",
       "       [5.7, 3. , 4.2, 1.2],\n",
       "       [5.7, 2.9, 4.2, 1.3],\n",
       "       [6.2, 2.9, 4.3, 1.3],\n",
       "       [5.1, 2.5, 3. , 1.1],\n",
       "       [5.7, 2.8, 4.1, 1.3],\n",
       "       [6.3, 3.3, 6. , 2.5],\n",
       "       [5.8, 2.7, 5.1, 1.9],\n",
       "       [7.1, 3. , 5.9, 2.1],\n",
       "       [6.3, 2.9, 5.6, 1.8],\n",
       "       [6.5, 3. , 5.8, 2.2],\n",
       "       [7.6, 3. , 6.6, 2.1],\n",
       "       [4.9, 2.5, 4.5, 1.7],\n",
       "       [7.3, 2.9, 6.3, 1.8],\n",
       "       [6.7, 2.5, 5.8, 1.8],\n",
       "       [7.2, 3.6, 6.1, 2.5],\n",
       "       [6.5, 3.2, 5.1, 2. ],\n",
       "       [6.4, 2.7, 5.3, 1.9],\n",
       "       [6.8, 3. , 5.5, 2.1],\n",
       "       [5.7, 2.5, 5. , 2. ],\n",
       "       [5.8, 2.8, 5.1, 2.4],\n",
       "       [6.4, 3.2, 5.3, 2.3],\n",
       "       [6.5, 3. , 5.5, 1.8],\n",
       "       [7.7, 3.8, 6.7, 2.2],\n",
       "       [7.7, 2.6, 6.9, 2.3],\n",
       "       [6. , 2.2, 5. , 1.5],\n",
       "       [6.9, 3.2, 5.7, 2.3],\n",
       "       [5.6, 2.8, 4.9, 2. ],\n",
       "       [7.7, 2.8, 6.7, 2. ],\n",
       "       [6.3, 2.7, 4.9, 1.8],\n",
       "       [6.7, 3.3, 5.7, 2.1],\n",
       "       [7.2, 3.2, 6. , 1.8],\n",
       "       [6.2, 2.8, 4.8, 1.8],\n",
       "       [6.1, 3. , 4.9, 1.8],\n",
       "       [6.4, 2.8, 5.6, 2.1],\n",
       "       [7.2, 3. , 5.8, 1.6],\n",
       "       [7.4, 2.8, 6.1, 1.9],\n",
       "       [7.9, 3.8, 6.4, 2. ],\n",
       "       [6.4, 2.8, 5.6, 2.2],\n",
       "       [6.3, 2.8, 5.1, 1.5],\n",
       "       [6.1, 2.6, 5.6, 1.4],\n",
       "       [7.7, 3. , 6.1, 2.3],\n",
       "       [6.3, 3.4, 5.6, 2.4],\n",
       "       [6.4, 3.1, 5.5, 1.8],\n",
       "       [6. , 3. , 4.8, 1.8],\n",
       "       [6.9, 3.1, 5.4, 2.1],\n",
       "       [6.7, 3.1, 5.6, 2.4],\n",
       "       [6.9, 3.1, 5.1, 2.3],\n",
       "       [5.8, 2.7, 5.1, 1.9],\n",
       "       [6.8, 3.2, 5.9, 2.3],\n",
       "       [6.7, 3.3, 5.7, 2.5],\n",
       "       [6.7, 3. , 5.2, 2.3],\n",
       "       [6.3, 2.5, 5. , 1.9],\n",
       "       [6.5, 3. , 5.2, 2. ],\n",
       "       [6.2, 3.4, 5.4, 2.3],\n",
       "       [5.9, 3. , 5.1, 1.8]])"
      ]
     },
     "execution_count": 8,
     "metadata": {},
     "output_type": "execute_result"
    }
   ],
   "source": [
    "X"
   ]
  },
  {
   "cell_type": "code",
   "execution_count": 9,
   "metadata": {},
   "outputs": [],
   "source": [
    "y = iris.target"
   ]
  },
  {
   "cell_type": "code",
   "execution_count": 10,
   "metadata": {},
   "outputs": [
    {
     "data": {
      "text/plain": [
       "array([0, 0, 0, 0, 0, 0, 0, 0, 0, 0, 0, 0, 0, 0, 0, 0, 0, 0, 0, 0, 0, 0,\n",
       "       0, 0, 0, 0, 0, 0, 0, 0, 0, 0, 0, 0, 0, 0, 0, 0, 0, 0, 0, 0, 0, 0,\n",
       "       0, 0, 0, 0, 0, 0, 1, 1, 1, 1, 1, 1, 1, 1, 1, 1, 1, 1, 1, 1, 1, 1,\n",
       "       1, 1, 1, 1, 1, 1, 1, 1, 1, 1, 1, 1, 1, 1, 1, 1, 1, 1, 1, 1, 1, 1,\n",
       "       1, 1, 1, 1, 1, 1, 1, 1, 1, 1, 1, 1, 2, 2, 2, 2, 2, 2, 2, 2, 2, 2,\n",
       "       2, 2, 2, 2, 2, 2, 2, 2, 2, 2, 2, 2, 2, 2, 2, 2, 2, 2, 2, 2, 2, 2,\n",
       "       2, 2, 2, 2, 2, 2, 2, 2, 2, 2, 2, 2, 2, 2, 2, 2, 2, 2])"
      ]
     },
     "execution_count": 10,
     "metadata": {},
     "output_type": "execute_result"
    }
   ],
   "source": [
    "y"
   ]
  },
  {
   "cell_type": "code",
   "execution_count": 18,
   "metadata": {},
   "outputs": [
    {
     "name": "stdout",
     "output_type": "stream",
     "text": [
      "Requirement already satisfied: keras in c:\\users\\danuu\\appdata\\local\\anaconda3\\lib\\site-packages (2.13.1)\n"
     ]
    }
   ],
   "source": [
    "\n",
    "# !pip install tensorflow\n",
    "!pip install keras\n"
   ]
  },
  {
   "cell_type": "code",
   "execution_count": 19,
   "metadata": {},
   "outputs": [],
   "source": [
    "from keras.utils import to_categorical"
   ]
  },
  {
   "cell_type": "code",
   "execution_count": 20,
   "metadata": {},
   "outputs": [],
   "source": [
    "y = to_categorical(y)"
   ]
  },
  {
   "cell_type": "code",
   "execution_count": 21,
   "metadata": {},
   "outputs": [
    {
     "data": {
      "text/plain": [
       "(150, 3)"
      ]
     },
     "execution_count": 21,
     "metadata": {},
     "output_type": "execute_result"
    }
   ],
   "source": [
    "y.shape"
   ]
  },
  {
   "cell_type": "code",
   "execution_count": 22,
   "metadata": {},
   "outputs": [
    {
     "data": {
      "text/plain": [
       "array([[1., 0., 0.],\n",
       "       [1., 0., 0.],\n",
       "       [1., 0., 0.],\n",
       "       [1., 0., 0.],\n",
       "       [1., 0., 0.],\n",
       "       [1., 0., 0.],\n",
       "       [1., 0., 0.],\n",
       "       [1., 0., 0.],\n",
       "       [1., 0., 0.],\n",
       "       [1., 0., 0.],\n",
       "       [1., 0., 0.],\n",
       "       [1., 0., 0.],\n",
       "       [1., 0., 0.],\n",
       "       [1., 0., 0.],\n",
       "       [1., 0., 0.],\n",
       "       [1., 0., 0.],\n",
       "       [1., 0., 0.],\n",
       "       [1., 0., 0.],\n",
       "       [1., 0., 0.],\n",
       "       [1., 0., 0.],\n",
       "       [1., 0., 0.],\n",
       "       [1., 0., 0.],\n",
       "       [1., 0., 0.],\n",
       "       [1., 0., 0.],\n",
       "       [1., 0., 0.],\n",
       "       [1., 0., 0.],\n",
       "       [1., 0., 0.],\n",
       "       [1., 0., 0.],\n",
       "       [1., 0., 0.],\n",
       "       [1., 0., 0.],\n",
       "       [1., 0., 0.],\n",
       "       [1., 0., 0.],\n",
       "       [1., 0., 0.],\n",
       "       [1., 0., 0.],\n",
       "       [1., 0., 0.],\n",
       "       [1., 0., 0.],\n",
       "       [1., 0., 0.],\n",
       "       [1., 0., 0.],\n",
       "       [1., 0., 0.],\n",
       "       [1., 0., 0.],\n",
       "       [1., 0., 0.],\n",
       "       [1., 0., 0.],\n",
       "       [1., 0., 0.],\n",
       "       [1., 0., 0.],\n",
       "       [1., 0., 0.],\n",
       "       [1., 0., 0.],\n",
       "       [1., 0., 0.],\n",
       "       [1., 0., 0.],\n",
       "       [1., 0., 0.],\n",
       "       [1., 0., 0.],\n",
       "       [0., 1., 0.],\n",
       "       [0., 1., 0.],\n",
       "       [0., 1., 0.],\n",
       "       [0., 1., 0.],\n",
       "       [0., 1., 0.],\n",
       "       [0., 1., 0.],\n",
       "       [0., 1., 0.],\n",
       "       [0., 1., 0.],\n",
       "       [0., 1., 0.],\n",
       "       [0., 1., 0.],\n",
       "       [0., 1., 0.],\n",
       "       [0., 1., 0.],\n",
       "       [0., 1., 0.],\n",
       "       [0., 1., 0.],\n",
       "       [0., 1., 0.],\n",
       "       [0., 1., 0.],\n",
       "       [0., 1., 0.],\n",
       "       [0., 1., 0.],\n",
       "       [0., 1., 0.],\n",
       "       [0., 1., 0.],\n",
       "       [0., 1., 0.],\n",
       "       [0., 1., 0.],\n",
       "       [0., 1., 0.],\n",
       "       [0., 1., 0.],\n",
       "       [0., 1., 0.],\n",
       "       [0., 1., 0.],\n",
       "       [0., 1., 0.],\n",
       "       [0., 1., 0.],\n",
       "       [0., 1., 0.],\n",
       "       [0., 1., 0.],\n",
       "       [0., 1., 0.],\n",
       "       [0., 1., 0.],\n",
       "       [0., 1., 0.],\n",
       "       [0., 1., 0.],\n",
       "       [0., 1., 0.],\n",
       "       [0., 1., 0.],\n",
       "       [0., 1., 0.],\n",
       "       [0., 1., 0.],\n",
       "       [0., 1., 0.],\n",
       "       [0., 1., 0.],\n",
       "       [0., 1., 0.],\n",
       "       [0., 1., 0.],\n",
       "       [0., 1., 0.],\n",
       "       [0., 1., 0.],\n",
       "       [0., 1., 0.],\n",
       "       [0., 1., 0.],\n",
       "       [0., 1., 0.],\n",
       "       [0., 1., 0.],\n",
       "       [0., 1., 0.],\n",
       "       [0., 1., 0.],\n",
       "       [0., 0., 1.],\n",
       "       [0., 0., 1.],\n",
       "       [0., 0., 1.],\n",
       "       [0., 0., 1.],\n",
       "       [0., 0., 1.],\n",
       "       [0., 0., 1.],\n",
       "       [0., 0., 1.],\n",
       "       [0., 0., 1.],\n",
       "       [0., 0., 1.],\n",
       "       [0., 0., 1.],\n",
       "       [0., 0., 1.],\n",
       "       [0., 0., 1.],\n",
       "       [0., 0., 1.],\n",
       "       [0., 0., 1.],\n",
       "       [0., 0., 1.],\n",
       "       [0., 0., 1.],\n",
       "       [0., 0., 1.],\n",
       "       [0., 0., 1.],\n",
       "       [0., 0., 1.],\n",
       "       [0., 0., 1.],\n",
       "       [0., 0., 1.],\n",
       "       [0., 0., 1.],\n",
       "       [0., 0., 1.],\n",
       "       [0., 0., 1.],\n",
       "       [0., 0., 1.],\n",
       "       [0., 0., 1.],\n",
       "       [0., 0., 1.],\n",
       "       [0., 0., 1.],\n",
       "       [0., 0., 1.],\n",
       "       [0., 0., 1.],\n",
       "       [0., 0., 1.],\n",
       "       [0., 0., 1.],\n",
       "       [0., 0., 1.],\n",
       "       [0., 0., 1.],\n",
       "       [0., 0., 1.],\n",
       "       [0., 0., 1.],\n",
       "       [0., 0., 1.],\n",
       "       [0., 0., 1.],\n",
       "       [0., 0., 1.],\n",
       "       [0., 0., 1.],\n",
       "       [0., 0., 1.],\n",
       "       [0., 0., 1.],\n",
       "       [0., 0., 1.],\n",
       "       [0., 0., 1.],\n",
       "       [0., 0., 1.],\n",
       "       [0., 0., 1.],\n",
       "       [0., 0., 1.],\n",
       "       [0., 0., 1.],\n",
       "       [0., 0., 1.],\n",
       "       [0., 0., 1.]], dtype=float32)"
      ]
     },
     "execution_count": 22,
     "metadata": {},
     "output_type": "execute_result"
    }
   ],
   "source": [
    "y"
   ]
  },
  {
   "cell_type": "markdown",
   "metadata": {},
   "source": [
    "## Split the Data into Training and Test\n",
    "\n",
    "Its time to split the data into a train/test set. Keep in mind, sometimes people like to split 3 ways, train/test/validation. We'll keep things simple for now. "
   ]
  },
  {
   "cell_type": "code",
   "execution_count": 23,
   "metadata": {},
   "outputs": [],
   "source": [
    "from sklearn.model_selection import train_test_split"
   ]
  },
  {
   "cell_type": "code",
   "execution_count": 25,
   "metadata": {},
   "outputs": [],
   "source": [
    "X_train, X_test, y_train, y_test = train_test_split(X, y, test_size=0.33, random_state=42)"
   ]
  },
  {
   "cell_type": "code",
   "execution_count": 26,
   "metadata": {},
   "outputs": [
    {
     "data": {
      "text/plain": [
       "array([[5.7, 2.9, 4.2, 1.3],\n",
       "       [7.6, 3. , 6.6, 2.1],\n",
       "       [5.6, 3. , 4.5, 1.5],\n",
       "       [5.1, 3.5, 1.4, 0.2],\n",
       "       [7.7, 2.8, 6.7, 2. ],\n",
       "       [5.8, 2.7, 4.1, 1. ],\n",
       "       [5.2, 3.4, 1.4, 0.2],\n",
       "       [5. , 3.5, 1.3, 0.3],\n",
       "       [5.1, 3.8, 1.9, 0.4],\n",
       "       [5. , 2. , 3.5, 1. ],\n",
       "       [6.3, 2.7, 4.9, 1.8],\n",
       "       [4.8, 3.4, 1.9, 0.2],\n",
       "       [5. , 3. , 1.6, 0.2],\n",
       "       [5.1, 3.3, 1.7, 0.5],\n",
       "       [5.6, 2.7, 4.2, 1.3],\n",
       "       [5.1, 3.4, 1.5, 0.2],\n",
       "       [5.7, 3. , 4.2, 1.2],\n",
       "       [7.7, 3.8, 6.7, 2.2],\n",
       "       [4.6, 3.2, 1.4, 0.2],\n",
       "       [6.2, 2.9, 4.3, 1.3],\n",
       "       [5.7, 2.5, 5. , 2. ],\n",
       "       [5.5, 4.2, 1.4, 0.2],\n",
       "       [6. , 3. , 4.8, 1.8],\n",
       "       [5.8, 2.7, 5.1, 1.9],\n",
       "       [6. , 2.2, 4. , 1. ],\n",
       "       [5.4, 3. , 4.5, 1.5],\n",
       "       [6.2, 3.4, 5.4, 2.3],\n",
       "       [5.5, 2.3, 4. , 1.3],\n",
       "       [5.4, 3.9, 1.7, 0.4],\n",
       "       [5. , 2.3, 3.3, 1. ],\n",
       "       [6.4, 2.7, 5.3, 1.9],\n",
       "       [5. , 3.3, 1.4, 0.2],\n",
       "       [5. , 3.2, 1.2, 0.2],\n",
       "       [5.5, 2.4, 3.8, 1.1],\n",
       "       [6.7, 3. , 5. , 1.7],\n",
       "       [4.9, 3.1, 1.5, 0.2],\n",
       "       [5.8, 2.8, 5.1, 2.4],\n",
       "       [5. , 3.4, 1.5, 0.2],\n",
       "       [5. , 3.5, 1.6, 0.6],\n",
       "       [5.9, 3.2, 4.8, 1.8],\n",
       "       [5.1, 2.5, 3. , 1.1],\n",
       "       [6.9, 3.2, 5.7, 2.3],\n",
       "       [6. , 2.7, 5.1, 1.6],\n",
       "       [6.1, 2.6, 5.6, 1.4],\n",
       "       [7.7, 3. , 6.1, 2.3],\n",
       "       [5.5, 2.5, 4. , 1.3],\n",
       "       [4.4, 2.9, 1.4, 0.2],\n",
       "       [4.3, 3. , 1.1, 0.1],\n",
       "       [6. , 2.2, 5. , 1.5],\n",
       "       [7.2, 3.2, 6. , 1.8],\n",
       "       [4.6, 3.1, 1.5, 0.2],\n",
       "       [5.1, 3.5, 1.4, 0.3],\n",
       "       [4.4, 3. , 1.3, 0.2],\n",
       "       [6.3, 2.5, 4.9, 1.5],\n",
       "       [6.3, 3.4, 5.6, 2.4],\n",
       "       [4.6, 3.4, 1.4, 0.3],\n",
       "       [6.8, 3. , 5.5, 2.1],\n",
       "       [6.3, 3.3, 6. , 2.5],\n",
       "       [4.7, 3.2, 1.3, 0.2],\n",
       "       [6.1, 2.9, 4.7, 1.4],\n",
       "       [6.5, 2.8, 4.6, 1.5],\n",
       "       [6.2, 2.8, 4.8, 1.8],\n",
       "       [7. , 3.2, 4.7, 1.4],\n",
       "       [6.4, 3.2, 5.3, 2.3],\n",
       "       [5.1, 3.8, 1.6, 0.2],\n",
       "       [6.9, 3.1, 5.4, 2.1],\n",
       "       [5.9, 3. , 4.2, 1.5],\n",
       "       [6.5, 3. , 5.2, 2. ],\n",
       "       [5.7, 2.6, 3.5, 1. ],\n",
       "       [5.2, 2.7, 3.9, 1.4],\n",
       "       [6.1, 3. , 4.6, 1.4],\n",
       "       [4.5, 2.3, 1.3, 0.3],\n",
       "       [6.6, 2.9, 4.6, 1.3],\n",
       "       [5.5, 2.6, 4.4, 1.2],\n",
       "       [5.3, 3.7, 1.5, 0.2],\n",
       "       [5.6, 3. , 4.1, 1.3],\n",
       "       [7.3, 2.9, 6.3, 1.8],\n",
       "       [6.7, 3.3, 5.7, 2.1],\n",
       "       [5.1, 3.7, 1.5, 0.4],\n",
       "       [4.9, 2.4, 3.3, 1. ],\n",
       "       [6.7, 3.3, 5.7, 2.5],\n",
       "       [7.2, 3. , 5.8, 1.6],\n",
       "       [4.9, 3.6, 1.4, 0.1],\n",
       "       [6.7, 3.1, 5.6, 2.4],\n",
       "       [4.9, 3. , 1.4, 0.2],\n",
       "       [6.9, 3.1, 4.9, 1.5],\n",
       "       [7.4, 2.8, 6.1, 1.9],\n",
       "       [6.3, 2.9, 5.6, 1.8],\n",
       "       [5.7, 2.8, 4.1, 1.3],\n",
       "       [6.5, 3. , 5.5, 1.8],\n",
       "       [6.3, 2.3, 4.4, 1.3],\n",
       "       [6.4, 2.9, 4.3, 1.3],\n",
       "       [5.6, 2.8, 4.9, 2. ],\n",
       "       [5.9, 3. , 5.1, 1.8],\n",
       "       [5.4, 3.4, 1.7, 0.2],\n",
       "       [6.1, 2.8, 4. , 1.3],\n",
       "       [4.9, 2.5, 4.5, 1.7],\n",
       "       [5.8, 4. , 1.2, 0.2],\n",
       "       [5.8, 2.6, 4. , 1.2],\n",
       "       [7.1, 3. , 5.9, 2.1]])"
      ]
     },
     "execution_count": 26,
     "metadata": {},
     "output_type": "execute_result"
    }
   ],
   "source": [
    "X_train"
   ]
  },
  {
   "cell_type": "code",
   "execution_count": 27,
   "metadata": {},
   "outputs": [
    {
     "data": {
      "text/plain": [
       "array([[6.1, 2.8, 4.7, 1.2],\n",
       "       [5.7, 3.8, 1.7, 0.3],\n",
       "       [7.7, 2.6, 6.9, 2.3],\n",
       "       [6. , 2.9, 4.5, 1.5],\n",
       "       [6.8, 2.8, 4.8, 1.4],\n",
       "       [5.4, 3.4, 1.5, 0.4],\n",
       "       [5.6, 2.9, 3.6, 1.3],\n",
       "       [6.9, 3.1, 5.1, 2.3],\n",
       "       [6.2, 2.2, 4.5, 1.5],\n",
       "       [5.8, 2.7, 3.9, 1.2],\n",
       "       [6.5, 3.2, 5.1, 2. ],\n",
       "       [4.8, 3. , 1.4, 0.1],\n",
       "       [5.5, 3.5, 1.3, 0.2],\n",
       "       [4.9, 3.1, 1.5, 0.1],\n",
       "       [5.1, 3.8, 1.5, 0.3],\n",
       "       [6.3, 3.3, 4.7, 1.6],\n",
       "       [6.5, 3. , 5.8, 2.2],\n",
       "       [5.6, 2.5, 3.9, 1.1],\n",
       "       [5.7, 2.8, 4.5, 1.3],\n",
       "       [6.4, 2.8, 5.6, 2.2],\n",
       "       [4.7, 3.2, 1.6, 0.2],\n",
       "       [6.1, 3. , 4.9, 1.8],\n",
       "       [5. , 3.4, 1.6, 0.4],\n",
       "       [6.4, 2.8, 5.6, 2.1],\n",
       "       [7.9, 3.8, 6.4, 2. ],\n",
       "       [6.7, 3. , 5.2, 2.3],\n",
       "       [6.7, 2.5, 5.8, 1.8],\n",
       "       [6.8, 3.2, 5.9, 2.3],\n",
       "       [4.8, 3. , 1.4, 0.3],\n",
       "       [4.8, 3.1, 1.6, 0.2],\n",
       "       [4.6, 3.6, 1. , 0.2],\n",
       "       [5.7, 4.4, 1.5, 0.4],\n",
       "       [6.7, 3.1, 4.4, 1.4],\n",
       "       [4.8, 3.4, 1.6, 0.2],\n",
       "       [4.4, 3.2, 1.3, 0.2],\n",
       "       [6.3, 2.5, 5. , 1.9],\n",
       "       [6.4, 3.2, 4.5, 1.5],\n",
       "       [5.2, 3.5, 1.5, 0.2],\n",
       "       [5. , 3.6, 1.4, 0.2],\n",
       "       [5.2, 4.1, 1.5, 0.1],\n",
       "       [5.8, 2.7, 5.1, 1.9],\n",
       "       [6. , 3.4, 4.5, 1.6],\n",
       "       [6.7, 3.1, 4.7, 1.5],\n",
       "       [5.4, 3.9, 1.3, 0.4],\n",
       "       [5.4, 3.7, 1.5, 0.2],\n",
       "       [5.5, 2.4, 3.7, 1. ],\n",
       "       [6.3, 2.8, 5.1, 1.5],\n",
       "       [6.4, 3.1, 5.5, 1.8],\n",
       "       [6.6, 3. , 4.4, 1.4],\n",
       "       [7.2, 3.6, 6.1, 2.5]])"
      ]
     },
     "execution_count": 27,
     "metadata": {},
     "output_type": "execute_result"
    }
   ],
   "source": [
    "X_test"
   ]
  },
  {
   "cell_type": "code",
   "execution_count": 28,
   "metadata": {},
   "outputs": [
    {
     "data": {
      "text/plain": [
       "array([[0., 1., 0.],\n",
       "       [0., 0., 1.],\n",
       "       [0., 1., 0.],\n",
       "       [1., 0., 0.],\n",
       "       [0., 0., 1.],\n",
       "       [0., 1., 0.],\n",
       "       [1., 0., 0.],\n",
       "       [1., 0., 0.],\n",
       "       [1., 0., 0.],\n",
       "       [0., 1., 0.],\n",
       "       [0., 0., 1.],\n",
       "       [1., 0., 0.],\n",
       "       [1., 0., 0.],\n",
       "       [1., 0., 0.],\n",
       "       [0., 1., 0.],\n",
       "       [1., 0., 0.],\n",
       "       [0., 1., 0.],\n",
       "       [0., 0., 1.],\n",
       "       [1., 0., 0.],\n",
       "       [0., 1., 0.],\n",
       "       [0., 0., 1.],\n",
       "       [1., 0., 0.],\n",
       "       [0., 0., 1.],\n",
       "       [0., 0., 1.],\n",
       "       [0., 1., 0.],\n",
       "       [0., 1., 0.],\n",
       "       [0., 0., 1.],\n",
       "       [0., 1., 0.],\n",
       "       [1., 0., 0.],\n",
       "       [0., 1., 0.],\n",
       "       [0., 0., 1.],\n",
       "       [1., 0., 0.],\n",
       "       [1., 0., 0.],\n",
       "       [0., 1., 0.],\n",
       "       [0., 1., 0.],\n",
       "       [1., 0., 0.],\n",
       "       [0., 0., 1.],\n",
       "       [1., 0., 0.],\n",
       "       [1., 0., 0.],\n",
       "       [0., 1., 0.],\n",
       "       [0., 1., 0.],\n",
       "       [0., 0., 1.],\n",
       "       [0., 1., 0.],\n",
       "       [0., 0., 1.],\n",
       "       [0., 0., 1.],\n",
       "       [0., 1., 0.],\n",
       "       [1., 0., 0.],\n",
       "       [1., 0., 0.],\n",
       "       [0., 0., 1.],\n",
       "       [0., 0., 1.],\n",
       "       [1., 0., 0.],\n",
       "       [1., 0., 0.],\n",
       "       [1., 0., 0.],\n",
       "       [0., 1., 0.],\n",
       "       [0., 0., 1.],\n",
       "       [1., 0., 0.],\n",
       "       [0., 0., 1.],\n",
       "       [0., 0., 1.],\n",
       "       [1., 0., 0.],\n",
       "       [0., 1., 0.],\n",
       "       [0., 1., 0.],\n",
       "       [0., 0., 1.],\n",
       "       [0., 1., 0.],\n",
       "       [0., 0., 1.],\n",
       "       [1., 0., 0.],\n",
       "       [0., 0., 1.],\n",
       "       [0., 1., 0.],\n",
       "       [0., 0., 1.],\n",
       "       [0., 1., 0.],\n",
       "       [0., 1., 0.],\n",
       "       [0., 1., 0.],\n",
       "       [1., 0., 0.],\n",
       "       [0., 1., 0.],\n",
       "       [0., 1., 0.],\n",
       "       [1., 0., 0.],\n",
       "       [0., 1., 0.],\n",
       "       [0., 0., 1.],\n",
       "       [0., 0., 1.],\n",
       "       [1., 0., 0.],\n",
       "       [0., 1., 0.],\n",
       "       [0., 0., 1.],\n",
       "       [0., 0., 1.],\n",
       "       [1., 0., 0.],\n",
       "       [0., 0., 1.],\n",
       "       [1., 0., 0.],\n",
       "       [0., 1., 0.],\n",
       "       [0., 0., 1.],\n",
       "       [0., 0., 1.],\n",
       "       [0., 1., 0.],\n",
       "       [0., 0., 1.],\n",
       "       [0., 1., 0.],\n",
       "       [0., 1., 0.],\n",
       "       [0., 0., 1.],\n",
       "       [0., 0., 1.],\n",
       "       [1., 0., 0.],\n",
       "       [0., 1., 0.],\n",
       "       [0., 0., 1.],\n",
       "       [1., 0., 0.],\n",
       "       [0., 1., 0.],\n",
       "       [0., 0., 1.]], dtype=float32)"
      ]
     },
     "execution_count": 28,
     "metadata": {},
     "output_type": "execute_result"
    }
   ],
   "source": [
    "y_train"
   ]
  },
  {
   "cell_type": "code",
   "execution_count": 29,
   "metadata": {},
   "outputs": [
    {
     "data": {
      "text/plain": [
       "array([[0., 1., 0.],\n",
       "       [1., 0., 0.],\n",
       "       [0., 0., 1.],\n",
       "       [0., 1., 0.],\n",
       "       [0., 1., 0.],\n",
       "       [1., 0., 0.],\n",
       "       [0., 1., 0.],\n",
       "       [0., 0., 1.],\n",
       "       [0., 1., 0.],\n",
       "       [0., 1., 0.],\n",
       "       [0., 0., 1.],\n",
       "       [1., 0., 0.],\n",
       "       [1., 0., 0.],\n",
       "       [1., 0., 0.],\n",
       "       [1., 0., 0.],\n",
       "       [0., 1., 0.],\n",
       "       [0., 0., 1.],\n",
       "       [0., 1., 0.],\n",
       "       [0., 1., 0.],\n",
       "       [0., 0., 1.],\n",
       "       [1., 0., 0.],\n",
       "       [0., 0., 1.],\n",
       "       [1., 0., 0.],\n",
       "       [0., 0., 1.],\n",
       "       [0., 0., 1.],\n",
       "       [0., 0., 1.],\n",
       "       [0., 0., 1.],\n",
       "       [0., 0., 1.],\n",
       "       [1., 0., 0.],\n",
       "       [1., 0., 0.],\n",
       "       [1., 0., 0.],\n",
       "       [1., 0., 0.],\n",
       "       [0., 1., 0.],\n",
       "       [1., 0., 0.],\n",
       "       [1., 0., 0.],\n",
       "       [0., 0., 1.],\n",
       "       [0., 1., 0.],\n",
       "       [1., 0., 0.],\n",
       "       [1., 0., 0.],\n",
       "       [1., 0., 0.],\n",
       "       [0., 0., 1.],\n",
       "       [0., 1., 0.],\n",
       "       [0., 1., 0.],\n",
       "       [1., 0., 0.],\n",
       "       [1., 0., 0.],\n",
       "       [0., 1., 0.],\n",
       "       [0., 0., 1.],\n",
       "       [0., 0., 1.],\n",
       "       [0., 1., 0.],\n",
       "       [0., 0., 1.]], dtype=float32)"
      ]
     },
     "execution_count": 29,
     "metadata": {},
     "output_type": "execute_result"
    }
   ],
   "source": [
    "y_test"
   ]
  },
  {
   "cell_type": "markdown",
   "metadata": {},
   "source": [
    "## Standardizing the Data\n",
    "\n",
    "Usually when using Neural Networks, you will get better performance when you standardize the data. Standardization just means normalizing the values to all fit between a certain range, like 0-1, or -1 to 1.\n",
    "\n",
    "The scikit learn library also provides a nice function for this.\n",
    "\n",
    "http://scikit-learn.org/stable/modules/generated/sklearn.preprocessing.MinMaxScaler.html"
   ]
  },
  {
   "cell_type": "code",
   "execution_count": 30,
   "metadata": {},
   "outputs": [],
   "source": [
    "from sklearn.preprocessing import MinMaxScaler"
   ]
  },
  {
   "cell_type": "code",
   "execution_count": 31,
   "metadata": {},
   "outputs": [],
   "source": [
    "scaler_object = MinMaxScaler()"
   ]
  },
  {
   "cell_type": "code",
   "execution_count": 32,
   "metadata": {},
   "outputs": [
    {
     "data": {
      "text/html": [
       "<style>#sk-container-id-1 {color: black;background-color: white;}#sk-container-id-1 pre{padding: 0;}#sk-container-id-1 div.sk-toggleable {background-color: white;}#sk-container-id-1 label.sk-toggleable__label {cursor: pointer;display: block;width: 100%;margin-bottom: 0;padding: 0.3em;box-sizing: border-box;text-align: center;}#sk-container-id-1 label.sk-toggleable__label-arrow:before {content: \"▸\";float: left;margin-right: 0.25em;color: #696969;}#sk-container-id-1 label.sk-toggleable__label-arrow:hover:before {color: black;}#sk-container-id-1 div.sk-estimator:hover label.sk-toggleable__label-arrow:before {color: black;}#sk-container-id-1 div.sk-toggleable__content {max-height: 0;max-width: 0;overflow: hidden;text-align: left;background-color: #f0f8ff;}#sk-container-id-1 div.sk-toggleable__content pre {margin: 0.2em;color: black;border-radius: 0.25em;background-color: #f0f8ff;}#sk-container-id-1 input.sk-toggleable__control:checked~div.sk-toggleable__content {max-height: 200px;max-width: 100%;overflow: auto;}#sk-container-id-1 input.sk-toggleable__control:checked~label.sk-toggleable__label-arrow:before {content: \"▾\";}#sk-container-id-1 div.sk-estimator input.sk-toggleable__control:checked~label.sk-toggleable__label {background-color: #d4ebff;}#sk-container-id-1 div.sk-label input.sk-toggleable__control:checked~label.sk-toggleable__label {background-color: #d4ebff;}#sk-container-id-1 input.sk-hidden--visually {border: 0;clip: rect(1px 1px 1px 1px);clip: rect(1px, 1px, 1px, 1px);height: 1px;margin: -1px;overflow: hidden;padding: 0;position: absolute;width: 1px;}#sk-container-id-1 div.sk-estimator {font-family: monospace;background-color: #f0f8ff;border: 1px dotted black;border-radius: 0.25em;box-sizing: border-box;margin-bottom: 0.5em;}#sk-container-id-1 div.sk-estimator:hover {background-color: #d4ebff;}#sk-container-id-1 div.sk-parallel-item::after {content: \"\";width: 100%;border-bottom: 1px solid gray;flex-grow: 1;}#sk-container-id-1 div.sk-label:hover label.sk-toggleable__label {background-color: #d4ebff;}#sk-container-id-1 div.sk-serial::before {content: \"\";position: absolute;border-left: 1px solid gray;box-sizing: border-box;top: 0;bottom: 0;left: 50%;z-index: 0;}#sk-container-id-1 div.sk-serial {display: flex;flex-direction: column;align-items: center;background-color: white;padding-right: 0.2em;padding-left: 0.2em;position: relative;}#sk-container-id-1 div.sk-item {position: relative;z-index: 1;}#sk-container-id-1 div.sk-parallel {display: flex;align-items: stretch;justify-content: center;background-color: white;position: relative;}#sk-container-id-1 div.sk-item::before, #sk-container-id-1 div.sk-parallel-item::before {content: \"\";position: absolute;border-left: 1px solid gray;box-sizing: border-box;top: 0;bottom: 0;left: 50%;z-index: -1;}#sk-container-id-1 div.sk-parallel-item {display: flex;flex-direction: column;z-index: 1;position: relative;background-color: white;}#sk-container-id-1 div.sk-parallel-item:first-child::after {align-self: flex-end;width: 50%;}#sk-container-id-1 div.sk-parallel-item:last-child::after {align-self: flex-start;width: 50%;}#sk-container-id-1 div.sk-parallel-item:only-child::after {width: 0;}#sk-container-id-1 div.sk-dashed-wrapped {border: 1px dashed gray;margin: 0 0.4em 0.5em 0.4em;box-sizing: border-box;padding-bottom: 0.4em;background-color: white;}#sk-container-id-1 div.sk-label label {font-family: monospace;font-weight: bold;display: inline-block;line-height: 1.2em;}#sk-container-id-1 div.sk-label-container {text-align: center;}#sk-container-id-1 div.sk-container {/* jupyter's `normalize.less` sets `[hidden] { display: none; }` but bootstrap.min.css set `[hidden] { display: none !important; }` so we also need the `!important` here to be able to override the default hidden behavior on the sphinx rendered scikit-learn.org. See: https://github.com/scikit-learn/scikit-learn/issues/21755 */display: inline-block !important;position: relative;}#sk-container-id-1 div.sk-text-repr-fallback {display: none;}</style><div id=\"sk-container-id-1\" class=\"sk-top-container\"><div class=\"sk-text-repr-fallback\"><pre>MinMaxScaler()</pre><b>In a Jupyter environment, please rerun this cell to show the HTML representation or trust the notebook. <br />On GitHub, the HTML representation is unable to render, please try loading this page with nbviewer.org.</b></div><div class=\"sk-container\" hidden><div class=\"sk-item\"><div class=\"sk-estimator sk-toggleable\"><input class=\"sk-toggleable__control sk-hidden--visually\" id=\"sk-estimator-id-1\" type=\"checkbox\" checked><label for=\"sk-estimator-id-1\" class=\"sk-toggleable__label sk-toggleable__label-arrow\">MinMaxScaler</label><div class=\"sk-toggleable__content\"><pre>MinMaxScaler()</pre></div></div></div></div></div>"
      ],
      "text/plain": [
       "MinMaxScaler()"
      ]
     },
     "execution_count": 32,
     "metadata": {},
     "output_type": "execute_result"
    }
   ],
   "source": [
    "scaler_object.fit(X_train)"
   ]
  },
  {
   "cell_type": "code",
   "execution_count": 33,
   "metadata": {},
   "outputs": [],
   "source": [
    "scaled_X_train = scaler_object.transform(X_train)"
   ]
  },
  {
   "cell_type": "code",
   "execution_count": 34,
   "metadata": {},
   "outputs": [],
   "source": [
    "scaled_X_test = scaler_object.transform(X_test)"
   ]
  },
  {
   "cell_type": "markdown",
   "metadata": {},
   "source": [
    "Ok, now we have the data scaled!"
   ]
  },
  {
   "cell_type": "code",
   "execution_count": 35,
   "metadata": {},
   "outputs": [
    {
     "data": {
      "text/plain": [
       "7.7"
      ]
     },
     "execution_count": 35,
     "metadata": {},
     "output_type": "execute_result"
    }
   ],
   "source": [
    "X_train.max()"
   ]
  },
  {
   "cell_type": "code",
   "execution_count": 37,
   "metadata": {},
   "outputs": [
    {
     "data": {
      "text/plain": [
       "1.0"
      ]
     },
     "execution_count": 37,
     "metadata": {},
     "output_type": "execute_result"
    }
   ],
   "source": [
    "scaled_X_train.max()"
   ]
  },
  {
   "cell_type": "code",
   "execution_count": 38,
   "metadata": {},
   "outputs": [
    {
     "data": {
      "text/plain": [
       "array([[5.7, 2.9, 4.2, 1.3],\n",
       "       [7.6, 3. , 6.6, 2.1],\n",
       "       [5.6, 3. , 4.5, 1.5],\n",
       "       [5.1, 3.5, 1.4, 0.2],\n",
       "       [7.7, 2.8, 6.7, 2. ],\n",
       "       [5.8, 2.7, 4.1, 1. ],\n",
       "       [5.2, 3.4, 1.4, 0.2],\n",
       "       [5. , 3.5, 1.3, 0.3],\n",
       "       [5.1, 3.8, 1.9, 0.4],\n",
       "       [5. , 2. , 3.5, 1. ],\n",
       "       [6.3, 2.7, 4.9, 1.8],\n",
       "       [4.8, 3.4, 1.9, 0.2],\n",
       "       [5. , 3. , 1.6, 0.2],\n",
       "       [5.1, 3.3, 1.7, 0.5],\n",
       "       [5.6, 2.7, 4.2, 1.3],\n",
       "       [5.1, 3.4, 1.5, 0.2],\n",
       "       [5.7, 3. , 4.2, 1.2],\n",
       "       [7.7, 3.8, 6.7, 2.2],\n",
       "       [4.6, 3.2, 1.4, 0.2],\n",
       "       [6.2, 2.9, 4.3, 1.3],\n",
       "       [5.7, 2.5, 5. , 2. ],\n",
       "       [5.5, 4.2, 1.4, 0.2],\n",
       "       [6. , 3. , 4.8, 1.8],\n",
       "       [5.8, 2.7, 5.1, 1.9],\n",
       "       [6. , 2.2, 4. , 1. ],\n",
       "       [5.4, 3. , 4.5, 1.5],\n",
       "       [6.2, 3.4, 5.4, 2.3],\n",
       "       [5.5, 2.3, 4. , 1.3],\n",
       "       [5.4, 3.9, 1.7, 0.4],\n",
       "       [5. , 2.3, 3.3, 1. ],\n",
       "       [6.4, 2.7, 5.3, 1.9],\n",
       "       [5. , 3.3, 1.4, 0.2],\n",
       "       [5. , 3.2, 1.2, 0.2],\n",
       "       [5.5, 2.4, 3.8, 1.1],\n",
       "       [6.7, 3. , 5. , 1.7],\n",
       "       [4.9, 3.1, 1.5, 0.2],\n",
       "       [5.8, 2.8, 5.1, 2.4],\n",
       "       [5. , 3.4, 1.5, 0.2],\n",
       "       [5. , 3.5, 1.6, 0.6],\n",
       "       [5.9, 3.2, 4.8, 1.8],\n",
       "       [5.1, 2.5, 3. , 1.1],\n",
       "       [6.9, 3.2, 5.7, 2.3],\n",
       "       [6. , 2.7, 5.1, 1.6],\n",
       "       [6.1, 2.6, 5.6, 1.4],\n",
       "       [7.7, 3. , 6.1, 2.3],\n",
       "       [5.5, 2.5, 4. , 1.3],\n",
       "       [4.4, 2.9, 1.4, 0.2],\n",
       "       [4.3, 3. , 1.1, 0.1],\n",
       "       [6. , 2.2, 5. , 1.5],\n",
       "       [7.2, 3.2, 6. , 1.8],\n",
       "       [4.6, 3.1, 1.5, 0.2],\n",
       "       [5.1, 3.5, 1.4, 0.3],\n",
       "       [4.4, 3. , 1.3, 0.2],\n",
       "       [6.3, 2.5, 4.9, 1.5],\n",
       "       [6.3, 3.4, 5.6, 2.4],\n",
       "       [4.6, 3.4, 1.4, 0.3],\n",
       "       [6.8, 3. , 5.5, 2.1],\n",
       "       [6.3, 3.3, 6. , 2.5],\n",
       "       [4.7, 3.2, 1.3, 0.2],\n",
       "       [6.1, 2.9, 4.7, 1.4],\n",
       "       [6.5, 2.8, 4.6, 1.5],\n",
       "       [6.2, 2.8, 4.8, 1.8],\n",
       "       [7. , 3.2, 4.7, 1.4],\n",
       "       [6.4, 3.2, 5.3, 2.3],\n",
       "       [5.1, 3.8, 1.6, 0.2],\n",
       "       [6.9, 3.1, 5.4, 2.1],\n",
       "       [5.9, 3. , 4.2, 1.5],\n",
       "       [6.5, 3. , 5.2, 2. ],\n",
       "       [5.7, 2.6, 3.5, 1. ],\n",
       "       [5.2, 2.7, 3.9, 1.4],\n",
       "       [6.1, 3. , 4.6, 1.4],\n",
       "       [4.5, 2.3, 1.3, 0.3],\n",
       "       [6.6, 2.9, 4.6, 1.3],\n",
       "       [5.5, 2.6, 4.4, 1.2],\n",
       "       [5.3, 3.7, 1.5, 0.2],\n",
       "       [5.6, 3. , 4.1, 1.3],\n",
       "       [7.3, 2.9, 6.3, 1.8],\n",
       "       [6.7, 3.3, 5.7, 2.1],\n",
       "       [5.1, 3.7, 1.5, 0.4],\n",
       "       [4.9, 2.4, 3.3, 1. ],\n",
       "       [6.7, 3.3, 5.7, 2.5],\n",
       "       [7.2, 3. , 5.8, 1.6],\n",
       "       [4.9, 3.6, 1.4, 0.1],\n",
       "       [6.7, 3.1, 5.6, 2.4],\n",
       "       [4.9, 3. , 1.4, 0.2],\n",
       "       [6.9, 3.1, 4.9, 1.5],\n",
       "       [7.4, 2.8, 6.1, 1.9],\n",
       "       [6.3, 2.9, 5.6, 1.8],\n",
       "       [5.7, 2.8, 4.1, 1.3],\n",
       "       [6.5, 3. , 5.5, 1.8],\n",
       "       [6.3, 2.3, 4.4, 1.3],\n",
       "       [6.4, 2.9, 4.3, 1.3],\n",
       "       [5.6, 2.8, 4.9, 2. ],\n",
       "       [5.9, 3. , 5.1, 1.8],\n",
       "       [5.4, 3.4, 1.7, 0.2],\n",
       "       [6.1, 2.8, 4. , 1.3],\n",
       "       [4.9, 2.5, 4.5, 1.7],\n",
       "       [5.8, 4. , 1.2, 0.2],\n",
       "       [5.8, 2.6, 4. , 1.2],\n",
       "       [7.1, 3. , 5.9, 2.1]])"
      ]
     },
     "execution_count": 38,
     "metadata": {},
     "output_type": "execute_result"
    }
   ],
   "source": [
    "X_train"
   ]
  },
  {
   "cell_type": "code",
   "execution_count": 39,
   "metadata": {},
   "outputs": [
    {
     "data": {
      "text/plain": [
       "array([[0.41176471, 0.40909091, 0.55357143, 0.5       ],\n",
       "       [0.97058824, 0.45454545, 0.98214286, 0.83333333],\n",
       "       [0.38235294, 0.45454545, 0.60714286, 0.58333333],\n",
       "       [0.23529412, 0.68181818, 0.05357143, 0.04166667],\n",
       "       [1.        , 0.36363636, 1.        , 0.79166667],\n",
       "       [0.44117647, 0.31818182, 0.53571429, 0.375     ],\n",
       "       [0.26470588, 0.63636364, 0.05357143, 0.04166667],\n",
       "       [0.20588235, 0.68181818, 0.03571429, 0.08333333],\n",
       "       [0.23529412, 0.81818182, 0.14285714, 0.125     ],\n",
       "       [0.20588235, 0.        , 0.42857143, 0.375     ],\n",
       "       [0.58823529, 0.31818182, 0.67857143, 0.70833333],\n",
       "       [0.14705882, 0.63636364, 0.14285714, 0.04166667],\n",
       "       [0.20588235, 0.45454545, 0.08928571, 0.04166667],\n",
       "       [0.23529412, 0.59090909, 0.10714286, 0.16666667],\n",
       "       [0.38235294, 0.31818182, 0.55357143, 0.5       ],\n",
       "       [0.23529412, 0.63636364, 0.07142857, 0.04166667],\n",
       "       [0.41176471, 0.45454545, 0.55357143, 0.45833333],\n",
       "       [1.        , 0.81818182, 1.        , 0.875     ],\n",
       "       [0.08823529, 0.54545455, 0.05357143, 0.04166667],\n",
       "       [0.55882353, 0.40909091, 0.57142857, 0.5       ],\n",
       "       [0.41176471, 0.22727273, 0.69642857, 0.79166667],\n",
       "       [0.35294118, 1.        , 0.05357143, 0.04166667],\n",
       "       [0.5       , 0.45454545, 0.66071429, 0.70833333],\n",
       "       [0.44117647, 0.31818182, 0.71428571, 0.75      ],\n",
       "       [0.5       , 0.09090909, 0.51785714, 0.375     ],\n",
       "       [0.32352941, 0.45454545, 0.60714286, 0.58333333],\n",
       "       [0.55882353, 0.63636364, 0.76785714, 0.91666667],\n",
       "       [0.35294118, 0.13636364, 0.51785714, 0.5       ],\n",
       "       [0.32352941, 0.86363636, 0.10714286, 0.125     ],\n",
       "       [0.20588235, 0.13636364, 0.39285714, 0.375     ],\n",
       "       [0.61764706, 0.31818182, 0.75      , 0.75      ],\n",
       "       [0.20588235, 0.59090909, 0.05357143, 0.04166667],\n",
       "       [0.20588235, 0.54545455, 0.01785714, 0.04166667],\n",
       "       [0.35294118, 0.18181818, 0.48214286, 0.41666667],\n",
       "       [0.70588235, 0.45454545, 0.69642857, 0.66666667],\n",
       "       [0.17647059, 0.5       , 0.07142857, 0.04166667],\n",
       "       [0.44117647, 0.36363636, 0.71428571, 0.95833333],\n",
       "       [0.20588235, 0.63636364, 0.07142857, 0.04166667],\n",
       "       [0.20588235, 0.68181818, 0.08928571, 0.20833333],\n",
       "       [0.47058824, 0.54545455, 0.66071429, 0.70833333],\n",
       "       [0.23529412, 0.22727273, 0.33928571, 0.41666667],\n",
       "       [0.76470588, 0.54545455, 0.82142857, 0.91666667],\n",
       "       [0.5       , 0.31818182, 0.71428571, 0.625     ],\n",
       "       [0.52941176, 0.27272727, 0.80357143, 0.54166667],\n",
       "       [1.        , 0.45454545, 0.89285714, 0.91666667],\n",
       "       [0.35294118, 0.22727273, 0.51785714, 0.5       ],\n",
       "       [0.02941176, 0.40909091, 0.05357143, 0.04166667],\n",
       "       [0.        , 0.45454545, 0.        , 0.        ],\n",
       "       [0.5       , 0.09090909, 0.69642857, 0.58333333],\n",
       "       [0.85294118, 0.54545455, 0.875     , 0.70833333],\n",
       "       [0.08823529, 0.5       , 0.07142857, 0.04166667],\n",
       "       [0.23529412, 0.68181818, 0.05357143, 0.08333333],\n",
       "       [0.02941176, 0.45454545, 0.03571429, 0.04166667],\n",
       "       [0.58823529, 0.22727273, 0.67857143, 0.58333333],\n",
       "       [0.58823529, 0.63636364, 0.80357143, 0.95833333],\n",
       "       [0.08823529, 0.63636364, 0.05357143, 0.08333333],\n",
       "       [0.73529412, 0.45454545, 0.78571429, 0.83333333],\n",
       "       [0.58823529, 0.59090909, 0.875     , 1.        ],\n",
       "       [0.11764706, 0.54545455, 0.03571429, 0.04166667],\n",
       "       [0.52941176, 0.40909091, 0.64285714, 0.54166667],\n",
       "       [0.64705882, 0.36363636, 0.625     , 0.58333333],\n",
       "       [0.55882353, 0.36363636, 0.66071429, 0.70833333],\n",
       "       [0.79411765, 0.54545455, 0.64285714, 0.54166667],\n",
       "       [0.61764706, 0.54545455, 0.75      , 0.91666667],\n",
       "       [0.23529412, 0.81818182, 0.08928571, 0.04166667],\n",
       "       [0.76470588, 0.5       , 0.76785714, 0.83333333],\n",
       "       [0.47058824, 0.45454545, 0.55357143, 0.58333333],\n",
       "       [0.64705882, 0.45454545, 0.73214286, 0.79166667],\n",
       "       [0.41176471, 0.27272727, 0.42857143, 0.375     ],\n",
       "       [0.26470588, 0.31818182, 0.5       , 0.54166667],\n",
       "       [0.52941176, 0.45454545, 0.625     , 0.54166667],\n",
       "       [0.05882353, 0.13636364, 0.03571429, 0.08333333],\n",
       "       [0.67647059, 0.40909091, 0.625     , 0.5       ],\n",
       "       [0.35294118, 0.27272727, 0.58928571, 0.45833333],\n",
       "       [0.29411765, 0.77272727, 0.07142857, 0.04166667],\n",
       "       [0.38235294, 0.45454545, 0.53571429, 0.5       ],\n",
       "       [0.88235294, 0.40909091, 0.92857143, 0.70833333],\n",
       "       [0.70588235, 0.59090909, 0.82142857, 0.83333333],\n",
       "       [0.23529412, 0.77272727, 0.07142857, 0.125     ],\n",
       "       [0.17647059, 0.18181818, 0.39285714, 0.375     ],\n",
       "       [0.70588235, 0.59090909, 0.82142857, 1.        ],\n",
       "       [0.85294118, 0.45454545, 0.83928571, 0.625     ],\n",
       "       [0.17647059, 0.72727273, 0.05357143, 0.        ],\n",
       "       [0.70588235, 0.5       , 0.80357143, 0.95833333],\n",
       "       [0.17647059, 0.45454545, 0.05357143, 0.04166667],\n",
       "       [0.76470588, 0.5       , 0.67857143, 0.58333333],\n",
       "       [0.91176471, 0.36363636, 0.89285714, 0.75      ],\n",
       "       [0.58823529, 0.40909091, 0.80357143, 0.70833333],\n",
       "       [0.41176471, 0.36363636, 0.53571429, 0.5       ],\n",
       "       [0.64705882, 0.45454545, 0.78571429, 0.70833333],\n",
       "       [0.58823529, 0.13636364, 0.58928571, 0.5       ],\n",
       "       [0.61764706, 0.40909091, 0.57142857, 0.5       ],\n",
       "       [0.38235294, 0.36363636, 0.67857143, 0.79166667],\n",
       "       [0.47058824, 0.45454545, 0.71428571, 0.70833333],\n",
       "       [0.32352941, 0.63636364, 0.10714286, 0.04166667],\n",
       "       [0.52941176, 0.36363636, 0.51785714, 0.5       ],\n",
       "       [0.17647059, 0.22727273, 0.60714286, 0.66666667],\n",
       "       [0.44117647, 0.90909091, 0.01785714, 0.04166667],\n",
       "       [0.44117647, 0.27272727, 0.51785714, 0.45833333],\n",
       "       [0.82352941, 0.45454545, 0.85714286, 0.83333333]])"
      ]
     },
     "execution_count": 39,
     "metadata": {},
     "output_type": "execute_result"
    }
   ],
   "source": [
    "scaled_X_train"
   ]
  },
  {
   "cell_type": "markdown",
   "metadata": {},
   "source": [
    "## Building the Network with Keras\n",
    "\n",
    "Let's build a simple neural network!"
   ]
  },
  {
   "cell_type": "code",
   "execution_count": 40,
   "metadata": {},
   "outputs": [],
   "source": [
    "from keras.models import Sequential\n",
    "from keras.layers import Dense"
   ]
  },
  {
   "cell_type": "code",
   "execution_count": 41,
   "metadata": {},
   "outputs": [],
   "source": [
    "model = Sequential()\n",
    "model.add(Dense(8, input_dim=4, activation='relu'))\n",
    "model.add(Dense(8, input_dim=4, activation='relu'))\n",
    "model.add(Dense(3, activation='softmax'))\n",
    "model.compile(loss='categorical_crossentropy', optimizer='adam', metrics=['accuracy'])"
   ]
  },
  {
   "cell_type": "code",
   "execution_count": 42,
   "metadata": {},
   "outputs": [
    {
     "name": "stdout",
     "output_type": "stream",
     "text": [
      "Model: \"sequential\"\n",
      "_________________________________________________________________\n",
      " Layer (type)                Output Shape              Param #   \n",
      "=================================================================\n",
      " dense (Dense)               (None, 8)                 40        \n",
      "                                                                 \n",
      " dense_1 (Dense)             (None, 8)                 72        \n",
      "                                                                 \n",
      " dense_2 (Dense)             (None, 3)                 27        \n",
      "                                                                 \n",
      "=================================================================\n",
      "Total params: 139 (556.00 Byte)\n",
      "Trainable params: 139 (556.00 Byte)\n",
      "Non-trainable params: 0 (0.00 Byte)\n",
      "_________________________________________________________________\n"
     ]
    }
   ],
   "source": [
    "model.summary()"
   ]
  },
  {
   "cell_type": "markdown",
   "metadata": {},
   "source": [
    "## Fit (Train) the Model"
   ]
  },
  {
   "cell_type": "code",
   "execution_count": 43,
   "metadata": {},
   "outputs": [
    {
     "name": "stdout",
     "output_type": "stream",
     "text": [
      "Epoch 1/150\n",
      "4/4 - 1s - loss: 0.9830 - accuracy: 0.5800 - 955ms/epoch - 239ms/step\n",
      "Epoch 2/150\n",
      "4/4 - 0s - loss: 0.9745 - accuracy: 0.6000 - 10ms/epoch - 2ms/step\n",
      "Epoch 3/150\n",
      "4/4 - 0s - loss: 0.9669 - accuracy: 0.6100 - 8ms/epoch - 2ms/step\n",
      "Epoch 4/150\n",
      "4/4 - 0s - loss: 0.9588 - accuracy: 0.6200 - 10ms/epoch - 3ms/step\n",
      "Epoch 5/150\n",
      "4/4 - 0s - loss: 0.9514 - accuracy: 0.6300 - 9ms/epoch - 2ms/step\n",
      "Epoch 6/150\n",
      "4/4 - 0s - loss: 0.9438 - accuracy: 0.6300 - 10ms/epoch - 3ms/step\n",
      "Epoch 7/150\n",
      "4/4 - 0s - loss: 0.9361 - accuracy: 0.6400 - 10ms/epoch - 2ms/step\n",
      "Epoch 8/150\n",
      "4/4 - 0s - loss: 0.9281 - accuracy: 0.6400 - 9ms/epoch - 2ms/step\n",
      "Epoch 9/150\n",
      "4/4 - 0s - loss: 0.9198 - accuracy: 0.6400 - 9ms/epoch - 2ms/step\n",
      "Epoch 10/150\n",
      "4/4 - 0s - loss: 0.9119 - accuracy: 0.6400 - 9ms/epoch - 2ms/step\n",
      "Epoch 11/150\n",
      "4/4 - 0s - loss: 0.9040 - accuracy: 0.6400 - 11ms/epoch - 3ms/step\n",
      "Epoch 12/150\n",
      "4/4 - 0s - loss: 0.8960 - accuracy: 0.6400 - 10ms/epoch - 3ms/step\n",
      "Epoch 13/150\n",
      "4/4 - 0s - loss: 0.8883 - accuracy: 0.6400 - 9ms/epoch - 2ms/step\n",
      "Epoch 14/150\n",
      "4/4 - 0s - loss: 0.8803 - accuracy: 0.6500 - 11ms/epoch - 3ms/step\n",
      "Epoch 15/150\n",
      "4/4 - 0s - loss: 0.8720 - accuracy: 0.6500 - 10ms/epoch - 3ms/step\n",
      "Epoch 16/150\n",
      "4/4 - 0s - loss: 0.8631 - accuracy: 0.6500 - 11ms/epoch - 3ms/step\n",
      "Epoch 17/150\n",
      "4/4 - 0s - loss: 0.8544 - accuracy: 0.6500 - 9ms/epoch - 2ms/step\n",
      "Epoch 18/150\n",
      "4/4 - 0s - loss: 0.8447 - accuracy: 0.6500 - 10ms/epoch - 2ms/step\n",
      "Epoch 19/150\n",
      "4/4 - 0s - loss: 0.8354 - accuracy: 0.6500 - 9ms/epoch - 2ms/step\n",
      "Epoch 20/150\n",
      "4/4 - 0s - loss: 0.8261 - accuracy: 0.6500 - 9ms/epoch - 2ms/step\n",
      "Epoch 21/150\n",
      "4/4 - 0s - loss: 0.8166 - accuracy: 0.6500 - 8ms/epoch - 2ms/step\n",
      "Epoch 22/150\n",
      "4/4 - 0s - loss: 0.8074 - accuracy: 0.6500 - 7ms/epoch - 2ms/step\n",
      "Epoch 23/150\n",
      "4/4 - 0s - loss: 0.7977 - accuracy: 0.6500 - 8ms/epoch - 2ms/step\n",
      "Epoch 24/150\n",
      "4/4 - 0s - loss: 0.7881 - accuracy: 0.6500 - 10ms/epoch - 2ms/step\n",
      "Epoch 25/150\n",
      "4/4 - 0s - loss: 0.7786 - accuracy: 0.6500 - 11ms/epoch - 3ms/step\n",
      "Epoch 26/150\n",
      "4/4 - 0s - loss: 0.7695 - accuracy: 0.6500 - 9ms/epoch - 2ms/step\n",
      "Epoch 27/150\n",
      "4/4 - 0s - loss: 0.7599 - accuracy: 0.6500 - 9ms/epoch - 2ms/step\n",
      "Epoch 28/150\n",
      "4/4 - 0s - loss: 0.7509 - accuracy: 0.6500 - 9ms/epoch - 2ms/step\n",
      "Epoch 29/150\n",
      "4/4 - 0s - loss: 0.7414 - accuracy: 0.6500 - 9ms/epoch - 2ms/step\n",
      "Epoch 30/150\n",
      "4/4 - 0s - loss: 0.7322 - accuracy: 0.6500 - 10ms/epoch - 2ms/step\n",
      "Epoch 31/150\n",
      "4/4 - 0s - loss: 0.7228 - accuracy: 0.6500 - 9ms/epoch - 2ms/step\n",
      "Epoch 32/150\n",
      "4/4 - 0s - loss: 0.7135 - accuracy: 0.6500 - 9ms/epoch - 2ms/step\n",
      "Epoch 33/150\n",
      "4/4 - 0s - loss: 0.7044 - accuracy: 0.6500 - 8ms/epoch - 2ms/step\n",
      "Epoch 34/150\n",
      "4/4 - 0s - loss: 0.6961 - accuracy: 0.6500 - 9ms/epoch - 2ms/step\n",
      "Epoch 35/150\n",
      "4/4 - 0s - loss: 0.6873 - accuracy: 0.6500 - 11ms/epoch - 3ms/step\n",
      "Epoch 36/150\n",
      "4/4 - 0s - loss: 0.6791 - accuracy: 0.6600 - 9ms/epoch - 2ms/step\n",
      "Epoch 37/150\n",
      "4/4 - 0s - loss: 0.6711 - accuracy: 0.6600 - 8ms/epoch - 2ms/step\n",
      "Epoch 38/150\n",
      "4/4 - 0s - loss: 0.6630 - accuracy: 0.6600 - 11ms/epoch - 3ms/step\n",
      "Epoch 39/150\n",
      "4/4 - 0s - loss: 0.6552 - accuracy: 0.6700 - 8ms/epoch - 2ms/step\n",
      "Epoch 40/150\n",
      "4/4 - 0s - loss: 0.6480 - accuracy: 0.6800 - 10ms/epoch - 2ms/step\n",
      "Epoch 41/150\n",
      "4/4 - 0s - loss: 0.6402 - accuracy: 0.6900 - 9ms/epoch - 2ms/step\n",
      "Epoch 42/150\n",
      "4/4 - 0s - loss: 0.6333 - accuracy: 0.6800 - 9ms/epoch - 2ms/step\n",
      "Epoch 43/150\n",
      "4/4 - 0s - loss: 0.6257 - accuracy: 0.6800 - 10ms/epoch - 2ms/step\n",
      "Epoch 44/150\n",
      "4/4 - 0s - loss: 0.6193 - accuracy: 0.6800 - 8ms/epoch - 2ms/step\n",
      "Epoch 45/150\n",
      "4/4 - 0s - loss: 0.6130 - accuracy: 0.6800 - 8ms/epoch - 2ms/step\n",
      "Epoch 46/150\n",
      "4/4 - 0s - loss: 0.6071 - accuracy: 0.6700 - 11ms/epoch - 3ms/step\n",
      "Epoch 47/150\n",
      "4/4 - 0s - loss: 0.6011 - accuracy: 0.6700 - 9ms/epoch - 2ms/step\n",
      "Epoch 48/150\n",
      "4/4 - 0s - loss: 0.5952 - accuracy: 0.6700 - 9ms/epoch - 2ms/step\n",
      "Epoch 49/150\n",
      "4/4 - 0s - loss: 0.5897 - accuracy: 0.6700 - 9ms/epoch - 2ms/step\n",
      "Epoch 50/150\n",
      "4/4 - 0s - loss: 0.5840 - accuracy: 0.6700 - 11ms/epoch - 3ms/step\n",
      "Epoch 51/150\n",
      "4/4 - 0s - loss: 0.5785 - accuracy: 0.6600 - 13ms/epoch - 3ms/step\n",
      "Epoch 52/150\n",
      "4/4 - 0s - loss: 0.5737 - accuracy: 0.6600 - 10ms/epoch - 2ms/step\n",
      "Epoch 53/150\n",
      "4/4 - 0s - loss: 0.5681 - accuracy: 0.6700 - 11ms/epoch - 3ms/step\n",
      "Epoch 54/150\n",
      "4/4 - 0s - loss: 0.5627 - accuracy: 0.6800 - 9ms/epoch - 2ms/step\n",
      "Epoch 55/150\n",
      "4/4 - 0s - loss: 0.5581 - accuracy: 0.6900 - 9ms/epoch - 2ms/step\n",
      "Epoch 56/150\n",
      "4/4 - 0s - loss: 0.5534 - accuracy: 0.7000 - 10ms/epoch - 2ms/step\n",
      "Epoch 57/150\n",
      "4/4 - 0s - loss: 0.5488 - accuracy: 0.7000 - 9ms/epoch - 2ms/step\n",
      "Epoch 58/150\n",
      "4/4 - 0s - loss: 0.5443 - accuracy: 0.7300 - 8ms/epoch - 2ms/step\n",
      "Epoch 59/150\n",
      "4/4 - 0s - loss: 0.5400 - accuracy: 0.7500 - 10ms/epoch - 3ms/step\n",
      "Epoch 60/150\n",
      "4/4 - 0s - loss: 0.5358 - accuracy: 0.7400 - 10ms/epoch - 3ms/step\n",
      "Epoch 61/150\n",
      "4/4 - 0s - loss: 0.5318 - accuracy: 0.7200 - 10ms/epoch - 2ms/step\n",
      "Epoch 62/150\n",
      "4/4 - 0s - loss: 0.5282 - accuracy: 0.7100 - 11ms/epoch - 3ms/step\n",
      "Epoch 63/150\n",
      "4/4 - 0s - loss: 0.5244 - accuracy: 0.7100 - 10ms/epoch - 3ms/step\n",
      "Epoch 64/150\n",
      "4/4 - 0s - loss: 0.5206 - accuracy: 0.7400 - 10ms/epoch - 3ms/step\n",
      "Epoch 65/150\n",
      "4/4 - 0s - loss: 0.5173 - accuracy: 0.7700 - 9ms/epoch - 2ms/step\n",
      "Epoch 66/150\n",
      "4/4 - 0s - loss: 0.5135 - accuracy: 0.7900 - 10ms/epoch - 3ms/step\n",
      "Epoch 67/150\n",
      "4/4 - 0s - loss: 0.5103 - accuracy: 0.8100 - 8ms/epoch - 2ms/step\n",
      "Epoch 68/150\n",
      "4/4 - 0s - loss: 0.5070 - accuracy: 0.8100 - 8ms/epoch - 2ms/step\n",
      "Epoch 69/150\n",
      "4/4 - 0s - loss: 0.5039 - accuracy: 0.8100 - 8ms/epoch - 2ms/step\n",
      "Epoch 70/150\n",
      "4/4 - 0s - loss: 0.5007 - accuracy: 0.8100 - 8ms/epoch - 2ms/step\n",
      "Epoch 71/150\n",
      "4/4 - 0s - loss: 0.4975 - accuracy: 0.8100 - 8ms/epoch - 2ms/step\n",
      "Epoch 72/150\n",
      "4/4 - 0s - loss: 0.4942 - accuracy: 0.8200 - 7ms/epoch - 2ms/step\n",
      "Epoch 73/150\n",
      "4/4 - 0s - loss: 0.4909 - accuracy: 0.8100 - 9ms/epoch - 2ms/step\n",
      "Epoch 74/150\n",
      "4/4 - 0s - loss: 0.4879 - accuracy: 0.8100 - 8ms/epoch - 2ms/step\n",
      "Epoch 75/150\n",
      "4/4 - 0s - loss: 0.4851 - accuracy: 0.8000 - 10ms/epoch - 2ms/step\n",
      "Epoch 76/150\n",
      "4/4 - 0s - loss: 0.4824 - accuracy: 0.7700 - 8ms/epoch - 2ms/step\n",
      "Epoch 77/150\n",
      "4/4 - 0s - loss: 0.4803 - accuracy: 0.7700 - 8ms/epoch - 2ms/step\n",
      "Epoch 78/150\n",
      "4/4 - 0s - loss: 0.4771 - accuracy: 0.7700 - 8ms/epoch - 2ms/step\n",
      "Epoch 79/150\n",
      "4/4 - 0s - loss: 0.4741 - accuracy: 0.8100 - 8ms/epoch - 2ms/step\n",
      "Epoch 80/150\n",
      "4/4 - 0s - loss: 0.4712 - accuracy: 0.8100 - 8ms/epoch - 2ms/step\n",
      "Epoch 81/150\n",
      "4/4 - 0s - loss: 0.4687 - accuracy: 0.8100 - 8ms/epoch - 2ms/step\n",
      "Epoch 82/150\n",
      "4/4 - 0s - loss: 0.4656 - accuracy: 0.8100 - 9ms/epoch - 2ms/step\n",
      "Epoch 83/150\n",
      "4/4 - 0s - loss: 0.4629 - accuracy: 0.8100 - 8ms/epoch - 2ms/step\n",
      "Epoch 84/150\n",
      "4/4 - 0s - loss: 0.4604 - accuracy: 0.8100 - 9ms/epoch - 2ms/step\n",
      "Epoch 85/150\n",
      "4/4 - 0s - loss: 0.4577 - accuracy: 0.8200 - 8ms/epoch - 2ms/step\n",
      "Epoch 86/150\n",
      "4/4 - 0s - loss: 0.4551 - accuracy: 0.8400 - 8ms/epoch - 2ms/step\n",
      "Epoch 87/150\n",
      "4/4 - 0s - loss: 0.4528 - accuracy: 0.8600 - 8ms/epoch - 2ms/step\n",
      "Epoch 88/150\n",
      "4/4 - 0s - loss: 0.4502 - accuracy: 0.8700 - 7ms/epoch - 2ms/step\n",
      "Epoch 89/150\n",
      "4/4 - 0s - loss: 0.4478 - accuracy: 0.8800 - 8ms/epoch - 2ms/step\n",
      "Epoch 90/150\n",
      "4/4 - 0s - loss: 0.4456 - accuracy: 0.8800 - 6ms/epoch - 1ms/step\n",
      "Epoch 91/150\n",
      "4/4 - 0s - loss: 0.4430 - accuracy: 0.8800 - 8ms/epoch - 2ms/step\n",
      "Epoch 92/150\n",
      "4/4 - 0s - loss: 0.4408 - accuracy: 0.8800 - 9ms/epoch - 2ms/step\n",
      "Epoch 93/150\n",
      "4/4 - 0s - loss: 0.4387 - accuracy: 0.8800 - 8ms/epoch - 2ms/step\n",
      "Epoch 94/150\n",
      "4/4 - 0s - loss: 0.4364 - accuracy: 0.9000 - 8ms/epoch - 2ms/step\n",
      "Epoch 95/150\n",
      "4/4 - 0s - loss: 0.4342 - accuracy: 0.8900 - 9ms/epoch - 2ms/step\n",
      "Epoch 96/150\n",
      "4/4 - 0s - loss: 0.4320 - accuracy: 0.9000 - 8ms/epoch - 2ms/step\n",
      "Epoch 97/150\n",
      "4/4 - 0s - loss: 0.4299 - accuracy: 0.8900 - 8ms/epoch - 2ms/step\n",
      "Epoch 98/150\n",
      "4/4 - 0s - loss: 0.4279 - accuracy: 0.8900 - 8ms/epoch - 2ms/step\n",
      "Epoch 99/150\n",
      "4/4 - 0s - loss: 0.4259 - accuracy: 0.8900 - 8ms/epoch - 2ms/step\n",
      "Epoch 100/150\n",
      "4/4 - 0s - loss: 0.4239 - accuracy: 0.9100 - 8ms/epoch - 2ms/step\n",
      "Epoch 101/150\n",
      "4/4 - 0s - loss: 0.4222 - accuracy: 0.9200 - 9ms/epoch - 2ms/step\n",
      "Epoch 102/150\n",
      "4/4 - 0s - loss: 0.4202 - accuracy: 0.9300 - 8ms/epoch - 2ms/step\n",
      "Epoch 103/150\n",
      "4/4 - 0s - loss: 0.4180 - accuracy: 0.9300 - 8ms/epoch - 2ms/step\n",
      "Epoch 104/150\n",
      "4/4 - 0s - loss: 0.4158 - accuracy: 0.9300 - 8ms/epoch - 2ms/step\n"
     ]
    },
    {
     "name": "stdout",
     "output_type": "stream",
     "text": [
      "Epoch 105/150\n",
      "4/4 - 0s - loss: 0.4140 - accuracy: 0.9300 - 10ms/epoch - 2ms/step\n",
      "Epoch 106/150\n",
      "4/4 - 0s - loss: 0.4117 - accuracy: 0.9300 - 9ms/epoch - 2ms/step\n",
      "Epoch 107/150\n",
      "4/4 - 0s - loss: 0.4095 - accuracy: 0.9300 - 8ms/epoch - 2ms/step\n",
      "Epoch 108/150\n",
      "4/4 - 0s - loss: 0.4074 - accuracy: 0.9300 - 9ms/epoch - 2ms/step\n",
      "Epoch 109/150\n",
      "4/4 - 0s - loss: 0.4056 - accuracy: 0.8900 - 8ms/epoch - 2ms/step\n",
      "Epoch 110/150\n",
      "4/4 - 0s - loss: 0.4033 - accuracy: 0.9100 - 8ms/epoch - 2ms/step\n",
      "Epoch 111/150\n",
      "4/4 - 0s - loss: 0.4015 - accuracy: 0.9000 - 8ms/epoch - 2ms/step\n",
      "Epoch 112/150\n",
      "4/4 - 0s - loss: 0.3996 - accuracy: 0.9000 - 8ms/epoch - 2ms/step\n",
      "Epoch 113/150\n",
      "4/4 - 0s - loss: 0.3977 - accuracy: 0.9100 - 9ms/epoch - 2ms/step\n",
      "Epoch 114/150\n",
      "4/4 - 0s - loss: 0.3957 - accuracy: 0.9000 - 9ms/epoch - 2ms/step\n",
      "Epoch 115/150\n",
      "4/4 - 0s - loss: 0.3939 - accuracy: 0.9000 - 8ms/epoch - 2ms/step\n",
      "Epoch 116/150\n",
      "4/4 - 0s - loss: 0.3920 - accuracy: 0.9200 - 10ms/epoch - 2ms/step\n",
      "Epoch 117/150\n",
      "4/4 - 0s - loss: 0.3894 - accuracy: 0.9300 - 7ms/epoch - 2ms/step\n",
      "Epoch 118/150\n",
      "4/4 - 0s - loss: 0.3876 - accuracy: 0.9300 - 8ms/epoch - 2ms/step\n",
      "Epoch 119/150\n",
      "4/4 - 0s - loss: 0.3865 - accuracy: 0.9200 - 7ms/epoch - 2ms/step\n",
      "Epoch 120/150\n",
      "4/4 - 0s - loss: 0.3845 - accuracy: 0.9200 - 7ms/epoch - 2ms/step\n",
      "Epoch 121/150\n",
      "4/4 - 0s - loss: 0.3823 - accuracy: 0.9300 - 9ms/epoch - 2ms/step\n",
      "Epoch 122/150\n",
      "4/4 - 0s - loss: 0.3798 - accuracy: 0.9300 - 9ms/epoch - 2ms/step\n",
      "Epoch 123/150\n",
      "4/4 - 0s - loss: 0.3777 - accuracy: 0.9300 - 9ms/epoch - 2ms/step\n",
      "Epoch 124/150\n",
      "4/4 - 0s - loss: 0.3761 - accuracy: 0.9300 - 8ms/epoch - 2ms/step\n",
      "Epoch 125/150\n",
      "4/4 - 0s - loss: 0.3741 - accuracy: 0.9300 - 9ms/epoch - 2ms/step\n",
      "Epoch 126/150\n",
      "4/4 - 0s - loss: 0.3720 - accuracy: 0.9300 - 10ms/epoch - 2ms/step\n",
      "Epoch 127/150\n",
      "4/4 - 0s - loss: 0.3700 - accuracy: 0.9300 - 8ms/epoch - 2ms/step\n",
      "Epoch 128/150\n",
      "4/4 - 0s - loss: 0.3681 - accuracy: 0.9300 - 9ms/epoch - 2ms/step\n",
      "Epoch 129/150\n",
      "4/4 - 0s - loss: 0.3661 - accuracy: 0.9300 - 7ms/epoch - 2ms/step\n",
      "Epoch 130/150\n",
      "4/4 - 0s - loss: 0.3642 - accuracy: 0.9300 - 8ms/epoch - 2ms/step\n",
      "Epoch 131/150\n",
      "4/4 - 0s - loss: 0.3624 - accuracy: 0.9300 - 9ms/epoch - 2ms/step\n",
      "Epoch 132/150\n",
      "4/4 - 0s - loss: 0.3598 - accuracy: 0.9300 - 8ms/epoch - 2ms/step\n",
      "Epoch 133/150\n",
      "4/4 - 0s - loss: 0.3578 - accuracy: 0.9300 - 8ms/epoch - 2ms/step\n",
      "Epoch 134/150\n",
      "4/4 - 0s - loss: 0.3566 - accuracy: 0.9300 - 9ms/epoch - 2ms/step\n",
      "Epoch 135/150\n",
      "4/4 - 0s - loss: 0.3550 - accuracy: 0.9400 - 8ms/epoch - 2ms/step\n",
      "Epoch 136/150\n",
      "4/4 - 0s - loss: 0.3532 - accuracy: 0.9400 - 8ms/epoch - 2ms/step\n",
      "Epoch 137/150\n",
      "4/4 - 0s - loss: 0.3509 - accuracy: 0.9300 - 9ms/epoch - 2ms/step\n",
      "Epoch 138/150\n",
      "4/4 - 0s - loss: 0.3490 - accuracy: 0.9300 - 8ms/epoch - 2ms/step\n",
      "Epoch 139/150\n",
      "4/4 - 0s - loss: 0.3470 - accuracy: 0.9300 - 8ms/epoch - 2ms/step\n",
      "Epoch 140/150\n",
      "4/4 - 0s - loss: 0.3450 - accuracy: 0.9300 - 9ms/epoch - 2ms/step\n",
      "Epoch 141/150\n",
      "4/4 - 0s - loss: 0.3431 - accuracy: 0.9400 - 9ms/epoch - 2ms/step\n",
      "Epoch 142/150\n",
      "4/4 - 0s - loss: 0.3410 - accuracy: 0.9300 - 8ms/epoch - 2ms/step\n",
      "Epoch 143/150\n",
      "4/4 - 0s - loss: 0.3397 - accuracy: 0.9300 - 9ms/epoch - 2ms/step\n",
      "Epoch 144/150\n",
      "4/4 - 0s - loss: 0.3385 - accuracy: 0.9300 - 8ms/epoch - 2ms/step\n",
      "Epoch 145/150\n",
      "4/4 - 0s - loss: 0.3366 - accuracy: 0.9400 - 7ms/epoch - 2ms/step\n",
      "Epoch 146/150\n",
      "4/4 - 0s - loss: 0.3349 - accuracy: 0.9400 - 8ms/epoch - 2ms/step\n",
      "Epoch 147/150\n",
      "4/4 - 0s - loss: 0.3323 - accuracy: 0.9300 - 8ms/epoch - 2ms/step\n",
      "Epoch 148/150\n",
      "4/4 - 0s - loss: 0.3300 - accuracy: 0.9300 - 7ms/epoch - 2ms/step\n",
      "Epoch 149/150\n",
      "4/4 - 0s - loss: 0.3280 - accuracy: 0.9400 - 9ms/epoch - 2ms/step\n",
      "Epoch 150/150\n",
      "4/4 - 0s - loss: 0.3263 - accuracy: 0.9400 - 9ms/epoch - 2ms/step\n"
     ]
    },
    {
     "data": {
      "text/plain": [
       "<keras.src.callbacks.History at 0x1ccbc305750>"
      ]
     },
     "execution_count": 43,
     "metadata": {},
     "output_type": "execute_result"
    }
   ],
   "source": [
    "# Play around with number of epochs as well!\n",
    "model.fit(scaled_X_train,y_train,epochs=150, verbose=2)"
   ]
  },
  {
   "cell_type": "markdown",
   "metadata": {},
   "source": [
    "## Predicting New Unseen Data\n",
    "\n",
    "Let's see how we did by predicting on **new data**. Remember, our model has **never** seen the test data that we scaled previously! This process is the exact same process you would use on totally brand new data. For example , a brand new bank note that you just analyzed ."
   ]
  },
  {
   "cell_type": "code",
   "execution_count": 44,
   "metadata": {},
   "outputs": [
    {
     "data": {
      "text/plain": [
       "array([[ 0.52941176,  0.36363636,  0.64285714,  0.45833333],\n",
       "       [ 0.41176471,  0.81818182,  0.10714286,  0.08333333],\n",
       "       [ 1.        ,  0.27272727,  1.03571429,  0.91666667],\n",
       "       [ 0.5       ,  0.40909091,  0.60714286,  0.58333333],\n",
       "       [ 0.73529412,  0.36363636,  0.66071429,  0.54166667],\n",
       "       [ 0.32352941,  0.63636364,  0.07142857,  0.125     ],\n",
       "       [ 0.38235294,  0.40909091,  0.44642857,  0.5       ],\n",
       "       [ 0.76470588,  0.5       ,  0.71428571,  0.91666667],\n",
       "       [ 0.55882353,  0.09090909,  0.60714286,  0.58333333],\n",
       "       [ 0.44117647,  0.31818182,  0.5       ,  0.45833333],\n",
       "       [ 0.64705882,  0.54545455,  0.71428571,  0.79166667],\n",
       "       [ 0.14705882,  0.45454545,  0.05357143,  0.        ],\n",
       "       [ 0.35294118,  0.68181818,  0.03571429,  0.04166667],\n",
       "       [ 0.17647059,  0.5       ,  0.07142857,  0.        ],\n",
       "       [ 0.23529412,  0.81818182,  0.07142857,  0.08333333],\n",
       "       [ 0.58823529,  0.59090909,  0.64285714,  0.625     ],\n",
       "       [ 0.64705882,  0.45454545,  0.83928571,  0.875     ],\n",
       "       [ 0.38235294,  0.22727273,  0.5       ,  0.41666667],\n",
       "       [ 0.41176471,  0.36363636,  0.60714286,  0.5       ],\n",
       "       [ 0.61764706,  0.36363636,  0.80357143,  0.875     ],\n",
       "       [ 0.11764706,  0.54545455,  0.08928571,  0.04166667],\n",
       "       [ 0.52941176,  0.45454545,  0.67857143,  0.70833333],\n",
       "       [ 0.20588235,  0.63636364,  0.08928571,  0.125     ],\n",
       "       [ 0.61764706,  0.36363636,  0.80357143,  0.83333333],\n",
       "       [ 1.05882353,  0.81818182,  0.94642857,  0.79166667],\n",
       "       [ 0.70588235,  0.45454545,  0.73214286,  0.91666667],\n",
       "       [ 0.70588235,  0.22727273,  0.83928571,  0.70833333],\n",
       "       [ 0.73529412,  0.54545455,  0.85714286,  0.91666667],\n",
       "       [ 0.14705882,  0.45454545,  0.05357143,  0.08333333],\n",
       "       [ 0.14705882,  0.5       ,  0.08928571,  0.04166667],\n",
       "       [ 0.08823529,  0.72727273, -0.01785714,  0.04166667],\n",
       "       [ 0.41176471,  1.09090909,  0.07142857,  0.125     ],\n",
       "       [ 0.70588235,  0.5       ,  0.58928571,  0.54166667],\n",
       "       [ 0.14705882,  0.63636364,  0.08928571,  0.04166667],\n",
       "       [ 0.02941176,  0.54545455,  0.03571429,  0.04166667],\n",
       "       [ 0.58823529,  0.22727273,  0.69642857,  0.75      ],\n",
       "       [ 0.61764706,  0.54545455,  0.60714286,  0.58333333],\n",
       "       [ 0.26470588,  0.68181818,  0.07142857,  0.04166667],\n",
       "       [ 0.20588235,  0.72727273,  0.05357143,  0.04166667],\n",
       "       [ 0.26470588,  0.95454545,  0.07142857,  0.        ],\n",
       "       [ 0.44117647,  0.31818182,  0.71428571,  0.75      ],\n",
       "       [ 0.5       ,  0.63636364,  0.60714286,  0.625     ],\n",
       "       [ 0.70588235,  0.5       ,  0.64285714,  0.58333333],\n",
       "       [ 0.32352941,  0.86363636,  0.03571429,  0.125     ],\n",
       "       [ 0.32352941,  0.77272727,  0.07142857,  0.04166667],\n",
       "       [ 0.35294118,  0.18181818,  0.46428571,  0.375     ],\n",
       "       [ 0.58823529,  0.36363636,  0.71428571,  0.58333333],\n",
       "       [ 0.61764706,  0.5       ,  0.78571429,  0.70833333],\n",
       "       [ 0.67647059,  0.45454545,  0.58928571,  0.54166667],\n",
       "       [ 0.85294118,  0.72727273,  0.89285714,  1.        ]])"
      ]
     },
     "execution_count": 44,
     "metadata": {},
     "output_type": "execute_result"
    }
   ],
   "source": [
    "scaled_X_test"
   ]
  },
  {
   "cell_type": "code",
   "execution_count": 46,
   "metadata": {},
   "outputs": [
    {
     "name": "stdout",
     "output_type": "stream",
     "text": [
      "2/2 [==============================] - 0s 3ms/step\n"
     ]
    },
    {
     "data": {
      "text/plain": [
       "array([[1.75091773e-02, 6.35552406e-01, 3.46938431e-01],\n",
       "       [9.88511205e-01, 1.02787381e-02, 1.21009385e-03],\n",
       "       [1.43842830e-04, 1.45843431e-01, 8.54012668e-01],\n",
       "       [1.28374314e-02, 5.76406658e-01, 4.10755903e-01],\n",
       "       [6.09884132e-03, 4.69077200e-01, 5.24823964e-01],\n",
       "       [9.72340465e-01, 2.41968967e-02, 3.46262148e-03],\n",
       "       [4.60472144e-02, 6.89344406e-01, 2.64608353e-01],\n",
       "       [8.34798790e-04, 2.33563632e-01, 7.65601635e-01],\n",
       "       [3.89982015e-03, 3.36598068e-01, 6.59502089e-01],\n",
       "       [2.95867547e-02, 6.52292848e-01, 3.18120390e-01],\n",
       "       [3.01903416e-03, 4.01404887e-01, 5.95576048e-01],\n",
       "       [9.80104864e-01, 1.70690753e-02, 2.82609835e-03],\n",
       "       [9.87667561e-01, 1.08337486e-02, 1.49864459e-03],\n",
       "       [9.82147157e-01, 1.54293068e-02, 2.42357026e-03],\n",
       "       [9.92040157e-01, 7.10462080e-03, 8.55282182e-04],\n",
       "       [1.31374625e-02, 6.16275251e-01, 3.70587349e-01],\n",
       "       [9.06369823e-04, 2.63532728e-01, 7.35560894e-01],\n",
       "       [3.25631835e-02, 6.53000116e-01, 3.14436734e-01],\n",
       "       [2.16701347e-02, 6.52142704e-01, 3.26187223e-01],\n",
       "       [8.36592284e-04, 2.36692771e-01, 7.62470603e-01],\n",
       "       [9.82036531e-01, 1.56170707e-02, 2.34642974e-03],\n",
       "       [5.70259336e-03, 4.73719299e-01, 5.20578146e-01],\n",
       "       [9.75767493e-01, 2.12351177e-02, 2.99737300e-03],\n",
       "       [1.03079469e-03, 2.58515358e-01, 7.40453899e-01],\n",
       "       [1.13756256e-03, 3.69675577e-01, 6.29186809e-01],\n",
       "       [8.14422150e-04, 2.28996769e-01, 7.70188749e-01],\n",
       "       [1.00530579e-03, 2.52444357e-01, 7.46550381e-01],\n",
       "       [6.88604079e-04, 2.48670146e-01, 7.50641227e-01],\n",
       "       [9.65134144e-01, 2.98363231e-02, 5.02951443e-03],\n",
       "       [9.76408899e-01, 2.03984883e-02, 3.19263199e-03],\n",
       "       [9.94080365e-01, 5.20792045e-03, 7.11750414e-04],\n",
       "       [9.95950818e-01, 3.69668636e-03, 3.52483185e-04],\n",
       "       [1.50246890e-02, 5.81649899e-01, 4.03325528e-01],\n",
       "       [9.87394094e-01, 1.10720489e-02, 1.53384695e-03],\n",
       "       [9.86267328e-01, 1.18852798e-02, 1.84742769e-03],\n",
       "       [1.66445423e-03, 2.72303939e-01, 7.26031661e-01],\n",
       "       [1.54643906e-02, 6.12446249e-01, 3.72089326e-01],\n",
       "       [9.88187492e-01, 1.04089798e-02, 1.40349602e-03],\n",
       "       [9.91576791e-01, 7.44781597e-03, 9.75279778e-04],\n",
       "       [9.97248232e-01, 2.49115238e-03, 2.60569708e-04],\n",
       "       [3.39483144e-03, 3.80039930e-01, 6.16565228e-01],\n",
       "       [2.22276859e-02, 6.79569721e-01, 2.98202544e-01],\n",
       "       [9.20789782e-03, 5.40408492e-01, 4.50383574e-01],\n",
       "       [9.91250873e-01, 7.81396031e-03, 9.35175573e-04],\n",
       "       [9.91332173e-01, 7.70908361e-03, 9.58761957e-04],\n",
       "       [4.22075614e-02, 6.67549372e-01, 2.90243119e-01],\n",
       "       [6.42251922e-03, 4.93640006e-01, 4.99937415e-01],\n",
       "       [3.69889499e-03, 4.51175660e-01, 5.45125484e-01],\n",
       "       [1.32114785e-02, 5.65374613e-01, 4.21413928e-01],\n",
       "       [4.85433644e-04, 2.40668789e-01, 7.58845806e-01]], dtype=float32)"
      ]
     },
     "execution_count": 46,
     "metadata": {},
     "output_type": "execute_result"
    }
   ],
   "source": [
    "# Spits out probabilities by default.\n",
    "model.predict(scaled_X_test)"
   ]
  },
  {
   "cell_type": "code",
   "execution_count": 64,
   "metadata": {},
   "outputs": [
    {
     "name": "stdout",
     "output_type": "stream",
     "text": [
      "2/2 [==============================] - 0s 3ms/step\n"
     ]
    },
    {
     "data": {
      "text/plain": [
       "array([1, 0, 2, 1, 2, 0, 1, 2, 2, 1, 2, 0, 0, 0, 0, 1, 2, 1, 1, 2, 0, 2,\n",
       "       0, 2, 2, 2, 2, 2, 0, 0, 0, 0, 1, 0, 0, 2, 1, 0, 0, 0, 2, 1, 1, 0,\n",
       "       0, 1, 2, 2, 1, 2], dtype=int64)"
      ]
     },
     "execution_count": 64,
     "metadata": {},
     "output_type": "execute_result"
    }
   ],
   "source": [
    "predict_x = model.predict(scaled_X_test)\n",
    "classes_x=np.argmax(predict_x,axis=1)\n",
    "classes_x"
   ]
  },
  {
   "cell_type": "markdown",
   "metadata": {},
   "source": [
    "# Evaluating Model Performance\n",
    "\n",
    "So how well did we do? How do we actually measure \"well\". Is 95% accuracy good enough? It all depends on the situation. Also we need to take into account things like recall and precision. Make sure to watch the video discussion on classification evaluation before running this code!"
   ]
  },
  {
   "cell_type": "code",
   "execution_count": 49,
   "metadata": {},
   "outputs": [
    {
     "data": {
      "text/plain": [
       "['loss', 'accuracy']"
      ]
     },
     "execution_count": 49,
     "metadata": {},
     "output_type": "execute_result"
    }
   ],
   "source": [
    "model.metrics_names"
   ]
  },
  {
   "cell_type": "code",
   "execution_count": 50,
   "metadata": {},
   "outputs": [
    {
     "name": "stdout",
     "output_type": "stream",
     "text": [
      "2/2 [==============================] - 0s 5ms/step - loss: 0.2886 - accuracy: 0.9600\n"
     ]
    },
    {
     "data": {
      "text/plain": [
       "[0.288612961769104, 0.9599999785423279]"
      ]
     },
     "execution_count": 50,
     "metadata": {},
     "output_type": "execute_result"
    }
   ],
   "source": [
    "model.evaluate(x=scaled_X_test,y=y_test)"
   ]
  },
  {
   "cell_type": "code",
   "execution_count": 51,
   "metadata": {},
   "outputs": [],
   "source": [
    "from sklearn.metrics import confusion_matrix,classification_report"
   ]
  },
  {
   "cell_type": "code",
   "execution_count": 65,
   "metadata": {},
   "outputs": [
    {
     "name": "stdout",
     "output_type": "stream",
     "text": [
      "2/2 [==============================] - 0s 3ms/step\n"
     ]
    }
   ],
   "source": [
    "predict_x = model.predict(scaled_X_test)\n",
    "predictions=np.argmax(predict_x,axis=1)"
   ]
  },
  {
   "cell_type": "code",
   "execution_count": 66,
   "metadata": {},
   "outputs": [
    {
     "data": {
      "text/plain": [
       "array([1, 0, 2, 1, 2, 0, 1, 2, 2, 1, 2, 0, 0, 0, 0, 1, 2, 1, 1, 2, 0, 2,\n",
       "       0, 2, 2, 2, 2, 2, 0, 0, 0, 0, 1, 0, 0, 2, 1, 0, 0, 0, 2, 1, 1, 0,\n",
       "       0, 1, 2, 2, 1, 2], dtype=int64)"
      ]
     },
     "execution_count": 66,
     "metadata": {},
     "output_type": "execute_result"
    }
   ],
   "source": [
    "predictions"
   ]
  },
  {
   "cell_type": "code",
   "execution_count": 67,
   "metadata": {},
   "outputs": [
    {
     "data": {
      "text/plain": [
       "array([1, 0, 2, 1, 1, 0, 1, 2, 1, 1, 2, 0, 0, 0, 0, 1, 2, 1, 1, 2, 0, 2,\n",
       "       0, 2, 2, 2, 2, 2, 0, 0, 0, 0, 1, 0, 0, 2, 1, 0, 0, 0, 2, 1, 1, 0,\n",
       "       0, 1, 2, 2, 1, 2], dtype=int64)"
      ]
     },
     "execution_count": 67,
     "metadata": {},
     "output_type": "execute_result"
    }
   ],
   "source": [
    "y_test.argmax(axis=1)"
   ]
  },
  {
   "cell_type": "code",
   "execution_count": 68,
   "metadata": {},
   "outputs": [
    {
     "data": {
      "text/plain": [
       "array([[19,  0,  0],\n",
       "       [ 0, 13,  2],\n",
       "       [ 0,  0, 16]], dtype=int64)"
      ]
     },
     "execution_count": 68,
     "metadata": {},
     "output_type": "execute_result"
    }
   ],
   "source": [
    "confusion_matrix(y_test.argmax(axis=1),predictions)"
   ]
  },
  {
   "cell_type": "code",
   "execution_count": 69,
   "metadata": {},
   "outputs": [
    {
     "name": "stdout",
     "output_type": "stream",
     "text": [
      "              precision    recall  f1-score   support\n",
      "\n",
      "           0       1.00      1.00      1.00        19\n",
      "           1       1.00      0.87      0.93        15\n",
      "           2       0.89      1.00      0.94        16\n",
      "\n",
      "    accuracy                           0.96        50\n",
      "   macro avg       0.96      0.96      0.96        50\n",
      "weighted avg       0.96      0.96      0.96        50\n",
      "\n"
     ]
    }
   ],
   "source": [
    "print(classification_report(y_test.argmax(axis=1),predictions))"
   ]
  },
  {
   "cell_type": "markdown",
   "metadata": {},
   "source": [
    "## Saving and Loading Models\n",
    "\n",
    "Now that we have a model trained, let's see how we can save and load it."
   ]
  },
  {
   "cell_type": "code",
   "execution_count": 71,
   "metadata": {},
   "outputs": [],
   "source": [
    "from keras.models import load_model"
   ]
  },
  {
   "cell_type": "code",
   "execution_count": null,
   "metadata": {},
   "outputs": [],
   "source": [
    "model.save('myfirstmodel.h5')"
   ]
  },
  {
   "cell_type": "code",
   "execution_count": 72,
   "metadata": {},
   "outputs": [],
   "source": [
    "newmodel = load_model('myfirstmodel.h5')"
   ]
  },
  {
   "cell_type": "code",
   "execution_count": 74,
   "metadata": {},
   "outputs": [
    {
     "name": "stdout",
     "output_type": "stream",
     "text": [
      "2/2 [==============================] - 0s 4ms/step\n"
     ]
    },
    {
     "data": {
      "text/plain": [
       "array([2, 1, 2, 2, 2, 2, 2, 2, 2, 2, 2, 1, 1, 1, 0, 2, 2, 2, 2, 2, 1, 2,\n",
       "       1, 2, 2, 2, 2, 2, 1, 1, 0, 0, 2, 1, 0, 2, 2, 1, 0, 0, 2, 2, 2, 1,\n",
       "       1, 2, 2, 2, 2, 2], dtype=int64)"
      ]
     },
     "execution_count": 74,
     "metadata": {},
     "output_type": "execute_result"
    }
   ],
   "source": [
    "\n",
    "predictions=np.argmax(newmodel.predict(X_test),axis=1)\n",
    "predictions"
   ]
  },
  {
   "cell_type": "markdown",
   "metadata": {},
   "source": [
    "Great job! You now know how to preprocess data, train a neural network, and evaluate its classification performance!"
   ]
  }
 ],
 "metadata": {
  "kernelspec": {
   "display_name": "Python 3 (ipykernel)",
   "language": "python",
   "name": "python3"
  },
  "language_info": {
   "codemirror_mode": {
    "name": "ipython",
    "version": 3
   },
   "file_extension": ".py",
   "mimetype": "text/x-python",
   "name": "python",
   "nbconvert_exporter": "python",
   "pygments_lexer": "ipython3",
   "version": "3.10.9"
  }
 },
 "nbformat": 4,
 "nbformat_minor": 2
}
