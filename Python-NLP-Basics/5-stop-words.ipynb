{
 "cells": [
  {
   "cell_type": "markdown",
   "id": "ce8d553c",
   "metadata": {},
   "source": [
    "# Stop Words\n",
    "Words like \"a\" and \"the\" appear so frequently that they don't require tagging as thoroughly as nouns, verbs and modifiers. We call these *stop words*, and they can be filtered from the text to be processed. spaCy holds a built-in list of some 305 English stop words"
   ]
  },
  {
   "cell_type": "code",
   "execution_count": 1,
   "id": "cb9d0f29",
   "metadata": {},
   "outputs": [],
   "source": [
    "import spacy\n",
    "nlp = spacy.load('en_core_web_sm')"
   ]
  },
  {
   "cell_type": "code",
   "execution_count": 2,
   "id": "924b3bc4",
   "metadata": {},
   "outputs": [
    {
     "name": "stdout",
     "output_type": "stream",
     "text": [
      "{'rather', 'seeming', 'two', 'therefore', 'whither', 'even', 'someone', 'from', 'last', 'as', 'empty', 'nowhere', 'through', 'using', 'them', 'anyway', 'hence', 'off', 'behind', 'whom', 'none', 'over', 'no', 'ca', 'your', 'please', 'into', 'make', 'i', 'where', 'should', 'something', 'sixty', 'very', 'more', 'neither', 'about', 'itself', 'therein', 'him', '’re', 'wherein', 'themselves', 'both', 'or', 'latterly', 'has', 'nothing', 'any', 'these', 'done', 'hereby', 'via', 'regarding', 'yours', 'n’t', 'bottom', 'he', 'take', 'ours', 'an', 'because', 're', 'top', 'back', 'three', '‘s', 'four', 'then', 'throughout', 'former', 'became', 'meanwhile', 'besides', 'but', 'have', \"'s\", 'it', 'five', 'against', 'without', 'already', 'just', 'several', 'ourselves', \"'re\", 'most', 'how', 'you', 'this', 'few', 'nobody', 'than', 'one', '‘m', 'which', 'fifty', 'was', 'down', 'who', 'we', 'himself', 'sometimes', 'can', 'quite', 'is', \"'m\", 'nevertheless', 'own', 'could', 'up', 'say', 'our', '’d', 'hereupon', 'will', 'been', 'by', 'to', 'alone', 'yet', 'each', 'everywhere', 'whatever', 'serious', 'thereafter', 'somewhere', 'after', 'otherwise', 'whole', \"'d\", 'of', 'she', 'since', 'if', 'part', 'along', 'give', 'nor', 'here', 'various', '’ve', 'among', 'around', 'herself', 'a', 'call', 'become', 'and', 'out', 'would', 'its', 'noone', 'amongst', 'such', 'less', 'seemed', 'all', 'thus', 'being', '‘re', 'that', 'everyone', 'however', 'afterwards', 'also', '’m', 'under', 'again', 'the', 'other', 'upon', 'others', 'everything', 'next', 'there', 'hereafter', 'many', 'during', 'whoever', 'in', 'six', 'did', 'does', 'towards', \"n't\", 'cannot', 'thereby', 'third', 'still', 'not', 'on', 'becoming', 'whereby', 'keep', 'why', '’s', 'whence', 'together', 'below', 'me', 'before', 'whereas', 'doing', 'were', 'least', 'those', 'made', 'whose', 'seem', 'first', 'seems', 'sometime', 'somehow', 'per', 'anyhow', 'some', 'across', 'move', 'enough', 'though', 'elsewhere', 'too', 'mine', 'nine', 'his', 'my', 'eleven', 'either', 'are', 'another', 'toward', 'indeed', 'their', 'beyond', 'thereupon', 'eight', 'often', 'myself', 'ten', 'namely', 'at', 'becomes', 'beforehand', 'never', 'although', 'same', 'forty', 'thence', 'name', 'latter', 'much', 'am', 'do', 'always', 'yourself', 'thru', 'except', 'whereupon', 'now', \"'ve\", 'anywhere', 'may', 'had', 'further', 'unless', 'really', 'for', 'might', 'see', 'side', 'put', 'when', 'whether', 'wherever', 'while', '‘ll', 'hers', 'twelve', 'beside', 'whenever', 'be', 'go', \"'ll\", 'formerly', 'hundred', 'used', 'onto', 'us', 'within', 'moreover', 'mostly', 'yourselves', 'fifteen', 'her', 'anyone', 'due', 'twenty', 'front', 'they', 'perhaps', 'get', 'above', '‘d', 'ever', 'what', '’ll', 'only', 'must', 'whereafter', 'until', 'so', 'amount', 'well', 'n‘t', 'every', 'else', 'full', 'almost', '‘ve', 'herein', 'once', 'anything', 'show', 'between', 'with'}\n"
     ]
    }
   ],
   "source": [
    "# Print the set of spaCy's default stop words (remember that sets are unordered):\n",
    "print(nlp.Defaults.stop_words)"
   ]
  },
  {
   "cell_type": "code",
   "execution_count": 3,
   "id": "f705395e",
   "metadata": {},
   "outputs": [
    {
     "data": {
      "text/plain": [
       "326"
      ]
     },
     "execution_count": 3,
     "metadata": {},
     "output_type": "execute_result"
    }
   ],
   "source": [
    "len(nlp.Defaults.stop_words)"
   ]
  },
  {
   "cell_type": "markdown",
   "id": "43d46292",
   "metadata": {},
   "source": [
    "## To see if a word is a stop word"
   ]
  },
  {
   "cell_type": "code",
   "execution_count": 5,
   "id": "4be298bb",
   "metadata": {},
   "outputs": [
    {
     "data": {
      "text/plain": [
       "True"
      ]
     },
     "execution_count": 5,
     "metadata": {},
     "output_type": "execute_result"
    }
   ],
   "source": [
    "nlp.vocab['myself'].is_stop"
   ]
  },
  {
   "cell_type": "code",
   "execution_count": 7,
   "id": "5235dc9f",
   "metadata": {},
   "outputs": [
    {
     "data": {
      "text/plain": [
       "True"
      ]
     },
     "execution_count": 7,
     "metadata": {},
     "output_type": "execute_result"
    }
   ],
   "source": [
    "nlp.vocab['a'].is_stop"
   ]
  },
  {
   "cell_type": "code",
   "execution_count": 8,
   "id": "5fd40855",
   "metadata": {},
   "outputs": [
    {
     "data": {
      "text/plain": [
       "False"
      ]
     },
     "execution_count": 8,
     "metadata": {},
     "output_type": "execute_result"
    }
   ],
   "source": [
    "nlp.vocab['mystery'].is_stop"
   ]
  },
  {
   "cell_type": "markdown",
   "id": "4077c89a",
   "metadata": {},
   "source": [
    "## To add a stop word\n",
    "There may be times when you wish to add a stop word to the default set. Perhaps you decide that `'btw'` (common shorthand for \"by the way\") should be considered a stop word."
   ]
  },
  {
   "cell_type": "code",
   "execution_count": 13,
   "id": "2d5d187b",
   "metadata": {},
   "outputs": [],
   "source": [
    "# nlp.Defaults.stop_words.add('btw')\n",
    "\n",
    "# nlp.vocab['btw'].is_stop = True"
   ]
  },
  {
   "cell_type": "code",
   "execution_count": 14,
   "id": "2501a35a",
   "metadata": {},
   "outputs": [
    {
     "data": {
      "text/plain": [
       "True"
      ]
     },
     "execution_count": 14,
     "metadata": {},
     "output_type": "execute_result"
    }
   ],
   "source": [
    "nlp.vocab['btw'].is_stop"
   ]
  },
  {
   "cell_type": "markdown",
   "id": "6bcba7b6",
   "metadata": {},
   "source": [
    "<font color=green>When adding stop words, always use lowercase. Lexemes are converted to lowercase before being added to **vocab**.</font>"
   ]
  },
  {
   "cell_type": "markdown",
   "id": "ddd1077b",
   "metadata": {},
   "source": [
    "## To remove a stop word\n",
    "Alternatively, you may decide that `'beyond'` should not be considered a stop word."
   ]
  },
  {
   "cell_type": "code",
   "execution_count": 15,
   "id": "d12214e0",
   "metadata": {},
   "outputs": [],
   "source": [
    "# Remove the word from the set of stop words\n",
    "nlp.Defaults.stop_words.remove('beyond')\n",
    "\n",
    "# Remove the stop_word tag from the lexeme\n",
    "nlp.vocab['beyond'].is_stop = False"
   ]
  },
  {
   "cell_type": "code",
   "execution_count": 16,
   "id": "76fc6d7e",
   "metadata": {},
   "outputs": [
    {
     "data": {
      "text/plain": [
       "326"
      ]
     },
     "execution_count": 16,
     "metadata": {},
     "output_type": "execute_result"
    }
   ],
   "source": [
    "len(nlp.Defaults.stop_words)"
   ]
  },
  {
   "cell_type": "code",
   "execution_count": 17,
   "id": "a0aeb7f7",
   "metadata": {},
   "outputs": [
    {
     "data": {
      "text/plain": [
       "False"
      ]
     },
     "execution_count": 17,
     "metadata": {},
     "output_type": "execute_result"
    }
   ],
   "source": [
    "nlp.vocab['beyond'].is_stop"
   ]
  },
  {
   "cell_type": "code",
   "execution_count": null,
   "id": "c5a864d5",
   "metadata": {},
   "outputs": [],
   "source": []
  }
 ],
 "metadata": {
  "kernelspec": {
   "display_name": "Python 3 (ipykernel)",
   "language": "python",
   "name": "python3"
  },
  "language_info": {
   "codemirror_mode": {
    "name": "ipython",
    "version": 3
   },
   "file_extension": ".py",
   "mimetype": "text/x-python",
   "name": "python",
   "nbconvert_exporter": "python",
   "pygments_lexer": "ipython3",
   "version": "3.10.9"
  }
 },
 "nbformat": 4,
 "nbformat_minor": 5
}
