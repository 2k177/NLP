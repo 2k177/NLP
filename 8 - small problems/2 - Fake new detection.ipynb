{
 "cells": [
  {
   "cell_type": "markdown",
   "id": "8fa5db3e",
   "metadata": {},
   "source": [
    "## step 1  - Importing Libraries and dataset"
   ]
  },
  {
   "cell_type": "code",
   "execution_count": null,
   "id": "72d17ad5",
   "metadata": {},
   "outputs": [],
   "source": [
    "import pandas as pd\n",
    "df = pd.read_csv('../TextFiles/news.csv')\n",
    "df.head(10)"
   ]
  },
  {
   "cell_type": "markdown",
   "id": "cd046470",
   "metadata": {},
   "source": [
    "## step 2 - Preprocessing Dataset"
   ]
  },
  {
   "cell_type": "code",
   "execution_count": 13,
   "id": "742d9728",
   "metadata": {},
   "outputs": [
    {
     "name": "stdout",
     "output_type": "stream",
     "text": [
      "6335\n",
      "6335\n"
     ]
    }
   ],
   "source": [
    "print(len(df))\n",
    "df = df.dropna()\n",
    "df = df.drop([\"Unnamed: 0\"], axis = 1) #this column is of no use...\n",
    "print(len(df))"
   ]
  },
  {
   "cell_type": "code",
   "execution_count": 11,
   "id": "e82c91ae",
   "metadata": {},
   "outputs": [
    {
     "data": {
      "text/html": [
       "<div>\n",
       "<style scoped>\n",
       "    .dataframe tbody tr th:only-of-type {\n",
       "        vertical-align: middle;\n",
       "    }\n",
       "\n",
       "    .dataframe tbody tr th {\n",
       "        vertical-align: top;\n",
       "    }\n",
       "\n",
       "    .dataframe thead th {\n",
       "        text-align: right;\n",
       "    }\n",
       "</style>\n",
       "<table border=\"1\" class=\"dataframe\">\n",
       "  <thead>\n",
       "    <tr style=\"text-align: right;\">\n",
       "      <th></th>\n",
       "      <th>title</th>\n",
       "      <th>text</th>\n",
       "      <th>label</th>\n",
       "    </tr>\n",
       "  </thead>\n",
       "  <tbody>\n",
       "    <tr>\n",
       "      <th>0</th>\n",
       "      <td>You Can Smell Hillary’s Fear</td>\n",
       "      <td>Daniel Greenfield, a Shillman Journalism Fello...</td>\n",
       "      <td>FAKE</td>\n",
       "    </tr>\n",
       "    <tr>\n",
       "      <th>1</th>\n",
       "      <td>Watch The Exact Moment Paul Ryan Committed Pol...</td>\n",
       "      <td>Google Pinterest Digg Linkedin Reddit Stumbleu...</td>\n",
       "      <td>FAKE</td>\n",
       "    </tr>\n",
       "    <tr>\n",
       "      <th>2</th>\n",
       "      <td>Kerry to go to Paris in gesture of sympathy</td>\n",
       "      <td>U.S. Secretary of State John F. Kerry said Mon...</td>\n",
       "      <td>REAL</td>\n",
       "    </tr>\n",
       "    <tr>\n",
       "      <th>3</th>\n",
       "      <td>Bernie supporters on Twitter erupt in anger ag...</td>\n",
       "      <td>— Kaydee King (@KaydeeKing) November 9, 2016 T...</td>\n",
       "      <td>FAKE</td>\n",
       "    </tr>\n",
       "    <tr>\n",
       "      <th>4</th>\n",
       "      <td>The Battle of New York: Why This Primary Matters</td>\n",
       "      <td>It's primary day in New York and front-runners...</td>\n",
       "      <td>REAL</td>\n",
       "    </tr>\n",
       "  </tbody>\n",
       "</table>\n",
       "</div>"
      ],
      "text/plain": [
       "                                               title  \\\n",
       "0                       You Can Smell Hillary’s Fear   \n",
       "1  Watch The Exact Moment Paul Ryan Committed Pol...   \n",
       "2        Kerry to go to Paris in gesture of sympathy   \n",
       "3  Bernie supporters on Twitter erupt in anger ag...   \n",
       "4   The Battle of New York: Why This Primary Matters   \n",
       "\n",
       "                                                text label  \n",
       "0  Daniel Greenfield, a Shillman Journalism Fello...  FAKE  \n",
       "1  Google Pinterest Digg Linkedin Reddit Stumbleu...  FAKE  \n",
       "2  U.S. Secretary of State John F. Kerry said Mon...  REAL  \n",
       "3  — Kaydee King (@KaydeeKing) November 9, 2016 T...  FAKE  \n",
       "4  It's primary day in New York and front-runners...  REAL  "
      ]
     },
     "execution_count": 11,
     "metadata": {},
     "output_type": "execute_result"
    }
   ],
   "source": [
    "df.head()"
   ]
  },
  {
   "cell_type": "markdown",
   "id": "066031c3",
   "metadata": {},
   "source": [
    "## Generating Word Embeddings\n",
    "#### Data Encoding\n",
    "It converts the categorical column (label in out case) into numerical values."
   ]
  },
  {
   "cell_type": "code",
   "execution_count": 18,
   "id": "76797d67",
   "metadata": {},
   "outputs": [
    {
     "data": {
      "text/html": [
       "<div>\n",
       "<style scoped>\n",
       "    .dataframe tbody tr th:only-of-type {\n",
       "        vertical-align: middle;\n",
       "    }\n",
       "\n",
       "    .dataframe tbody tr th {\n",
       "        vertical-align: top;\n",
       "    }\n",
       "\n",
       "    .dataframe thead th {\n",
       "        text-align: right;\n",
       "    }\n",
       "</style>\n",
       "<table border=\"1\" class=\"dataframe\">\n",
       "  <thead>\n",
       "    <tr style=\"text-align: right;\">\n",
       "      <th></th>\n",
       "      <th>title</th>\n",
       "      <th>text</th>\n",
       "      <th>label</th>\n",
       "    </tr>\n",
       "  </thead>\n",
       "  <tbody>\n",
       "    <tr>\n",
       "      <th>0</th>\n",
       "      <td>You Can Smell Hillary’s Fear</td>\n",
       "      <td>Daniel Greenfield, a Shillman Journalism Fello...</td>\n",
       "      <td>0</td>\n",
       "    </tr>\n",
       "    <tr>\n",
       "      <th>1</th>\n",
       "      <td>Watch The Exact Moment Paul Ryan Committed Pol...</td>\n",
       "      <td>Google Pinterest Digg Linkedin Reddit Stumbleu...</td>\n",
       "      <td>0</td>\n",
       "    </tr>\n",
       "    <tr>\n",
       "      <th>2</th>\n",
       "      <td>Kerry to go to Paris in gesture of sympathy</td>\n",
       "      <td>U.S. Secretary of State John F. Kerry said Mon...</td>\n",
       "      <td>1</td>\n",
       "    </tr>\n",
       "    <tr>\n",
       "      <th>3</th>\n",
       "      <td>Bernie supporters on Twitter erupt in anger ag...</td>\n",
       "      <td>— Kaydee King (@KaydeeKing) November 9, 2016 T...</td>\n",
       "      <td>0</td>\n",
       "    </tr>\n",
       "    <tr>\n",
       "      <th>4</th>\n",
       "      <td>The Battle of New York: Why This Primary Matters</td>\n",
       "      <td>It's primary day in New York and front-runners...</td>\n",
       "      <td>1</td>\n",
       "    </tr>\n",
       "  </tbody>\n",
       "</table>\n",
       "</div>"
      ],
      "text/plain": [
       "                                               title  \\\n",
       "0                       You Can Smell Hillary’s Fear   \n",
       "1  Watch The Exact Moment Paul Ryan Committed Pol...   \n",
       "2        Kerry to go to Paris in gesture of sympathy   \n",
       "3  Bernie supporters on Twitter erupt in anger ag...   \n",
       "4   The Battle of New York: Why This Primary Matters   \n",
       "\n",
       "                                                text  label  \n",
       "0  Daniel Greenfield, a Shillman Journalism Fello...      0  \n",
       "1  Google Pinterest Digg Linkedin Reddit Stumbleu...      0  \n",
       "2  U.S. Secretary of State John F. Kerry said Mon...      1  \n",
       "3  — Kaydee King (@KaydeeKing) November 9, 2016 T...      0  \n",
       "4  It's primary day in New York and front-runners...      1  "
      ]
     },
     "execution_count": 18,
     "metadata": {},
     "output_type": "execute_result"
    }
   ],
   "source": [
    "# encoding the labels\n",
    "from sklearn import preprocessing\n",
    "\n",
    "labelEncoder = preprocessing.LabelEncoder()\n",
    "labelEncoder.fit(df['label'])\n",
    "#just the matter of converting the fake to 0 and Real to 1\n",
    "df['label'] = labelEncoder.transform(df['label']) \n",
    "# df['label']\n",
    "df.head()"
   ]
  },
  {
   "cell_type": "code",
   "execution_count": 19,
   "id": "9b582c83",
   "metadata": {},
   "outputs": [],
   "source": [
    "# some variables for model training\n",
    "embedding_dim = 50\n",
    "max_length = 54\n",
    "trunc_type = 'post'\n",
    "padding_type = 'post'\n",
    "oov_tok = \"<OOV>\"\n",
    "training_size = 3000\n",
    "test_portion = .1\n"
   ]
  },
  {
   "cell_type": "markdown",
   "id": "c71e2dc1",
   "metadata": {},
   "source": [
    "### Tokenization \n",
    "This process divides a large piece of continuous text into distinct units or tokens basically. Here we use columns separately for a temporal basis as a pipeline just for good accuracy."
   ]
  },
  {
   "cell_type": "code",
   "execution_count": 28,
   "id": "f8e69128",
   "metadata": {},
   "outputs": [],
   "source": [
    "title = []\n",
    "text = []\n",
    "labels = []\n",
    "for x in range(training_size):\n",
    "    title.append(df['title'][x])\n",
    "    text.append(df['text'][x])\n",
    "    labels.append(df['label'][x])\n",
    "# print(f\"{title[:3]} {text[:3]} {labels[:3]}\")"
   ]
  },
  {
   "cell_type": "code",
   "execution_count": 52,
   "id": "92993745",
   "metadata": {},
   "outputs": [
    {
     "name": "stdout",
     "output_type": "stream",
     "text": [
      "You Can Smell Hillary’s Fear\n",
      "Watch The Exact Moment Paul Ryan Committed Political Suicide At A Trump Rally (VIDEO)\n",
      "[48, 58, 1930, 182, 577]\n",
      "[183, 1, 3170, 1109, 95, 184, 1931, 110, 445, 19, 7, 5, 225, 29]\n",
      "[[  48   58 1930 ...    0    0    0]\n",
      " [ 183    1 3170 ...    0    0    0]\n",
      " [ 446    2  243 ...    0    0    0]\n",
      " ...\n",
      " [   1 7547  455 ...    0    0    0]\n",
      " [1115  321  614 ...    0    0    0]\n",
      " [   5 2516   42 ...    0    0    0]]\n"
     ]
    }
   ],
   "source": [
    "#Applying Tokenization\n",
    "from tensorflow.keras.preprocessing.text import Tokenizer\n",
    "\n",
    "tokenizer1 = Tokenizer()\n",
    "tokenizer1.fit_on_texts(title) #Updates internal vocabulary based on a list of texts.\n",
    "print(title[0])\n",
    "print(title[1])\n",
    "\n",
    "word_index1 = tokenizer1.word_index #mapping words to indices\n",
    "# print(word_index1)\n",
    "vocab_size1 = len(word_index1)\n",
    "\n",
    "sequences1 = tokenizer1.texts_to_sequences(title)\n",
    "\n",
    "print(sequences1[0])\n",
    "print(sequences1[1])\n",
    "\n",
    "from tensorflow.keras.preprocessing.sequence import pad_sequences\n",
    "padded1 = pad_sequences(sequences1,  \n",
    "                        padding=padding_type, \n",
    "                        truncating=trunc_type)\n",
    "print(padded1)\n",
    "split = int(test_portion * training_size)\n",
    "test_sequences1 = padded1[0:split]\n",
    "training_sequences1 = padded1[split:training_size]\n",
    "test_labels = labels[0:split]\n",
    "training_labels = labels[split:training_size]"
   ]
  },
  {
   "cell_type": "markdown",
   "id": "986065fc",
   "metadata": {},
   "source": [
    "### Generating Word Embedding\n",
    "It allows words with similar meanings to have a similar representation. Here each individual word is represented as real-valued vectors in a predefined vector space."
   ]
  },
  {
   "cell_type": "code",
   "execution_count": 45,
   "id": "be1e4733",
   "metadata": {},
   "outputs": [
    {
     "name": "stdout",
     "output_type": "stream",
     "text": [
      "[ 0.25616   0.43694  -0.11889   0.20345   0.41959   0.85863  -0.60344\n",
      " -0.31835  -0.6718    0.003984 -0.075159  0.11043  -0.73534   0.27436\n",
      "  0.054015 -0.23828  -0.13767   0.011573 -0.46623  -0.55233   0.083317\n",
      "  0.55938   0.51903  -0.27065  -0.28211  -1.3918    0.17498   0.26586\n",
      "  0.061449 -0.273     3.9032    0.38169  -0.056009 -0.004425  0.24033\n",
      "  0.30675  -0.12638   0.33436   0.075485 -0.036218  0.13691   0.37762\n",
      " -0.12159  -0.13808   0.19505   0.22793  -0.17304  -0.07573  -0.25868\n",
      " -0.39339 ]\n"
     ]
    }
   ],
   "source": [
    "import numpy as np\n",
    "\n",
    "embeddings_index = {}\n",
    "with open('../TextFiles/glove.6B.50d.txt', encoding=\"utf8\") as f:\n",
    "    for line in f:\n",
    "        values = line.split()\n",
    "        word = values[0]\n",
    "        coefs = np.asarray(values[1:], dtype='float32')\n",
    "        embeddings_index[word] = coefs\n",
    "print(embeddings_index['with'])"
   ]
  },
  {
   "cell_type": "code",
   "execution_count": 46,
   "id": "db9e00f3",
   "metadata": {},
   "outputs": [
    {
     "name": "stdout",
     "output_type": "stream",
     "text": [
      "[ 4.1800e-01  2.4968e-01 -4.1242e-01  1.2170e-01  3.4527e-01 -4.4457e-02\n",
      " -4.9688e-01 -1.7862e-01 -6.6023e-04 -6.5660e-01  2.7843e-01 -1.4767e-01\n",
      " -5.5677e-01  1.4658e-01 -9.5095e-03  1.1658e-02  1.0204e-01 -1.2792e-01\n",
      " -8.4430e-01 -1.2181e-01 -1.6801e-02 -3.3279e-01 -1.5520e-01 -2.3131e-01\n",
      " -1.9181e-01 -1.8823e+00 -7.6746e-01  9.9051e-02 -4.2125e-01 -1.9526e-01\n",
      "  4.0071e+00 -1.8594e-01 -5.2287e-01 -3.1681e-01  5.9213e-04  7.4449e-03\n",
      "  1.7778e-01 -1.5897e-01  1.2041e-02 -5.4223e-02 -2.9871e-01 -1.5749e-01\n",
      " -3.4758e-01 -4.5637e-02 -4.4251e-01  1.8785e-01  2.7849e-03 -1.8411e-01\n",
      " -1.1514e-01 -7.8581e-01]\n"
     ]
    }
   ],
   "source": [
    "print(embeddings_index['the'])"
   ]
  },
  {
   "cell_type": "code",
   "execution_count": 47,
   "id": "5b50236d",
   "metadata": {},
   "outputs": [
    {
     "name": "stdout",
     "output_type": "stream",
     "text": [
      "[ 0.41037   0.11342   0.051524 -0.53833  -0.12913   0.22247  -0.9494\n",
      " -0.18963  -0.36623  -0.067011  0.19356  -0.33044   0.11615  -0.58585\n",
      "  0.36106   0.12555  -0.3581   -0.023201 -1.2319    0.23383   0.71256\n",
      "  0.14824   0.50874  -0.12313  -0.20353  -1.82      0.22291   0.020291\n",
      " -0.081743 -0.27481   3.7343   -0.01874  -0.084522 -0.30364   0.27959\n",
      "  0.043328 -0.24621   0.015373  0.49751   0.15108  -0.01619   0.40132\n",
      "  0.23067  -0.10743  -0.36625  -0.051135  0.041474 -0.36064  -0.19616\n",
      " -0.81066 ]\n"
     ]
    }
   ],
   "source": [
    "print(embeddings_index['from'])"
   ]
  },
  {
   "cell_type": "code",
   "execution_count": 48,
   "id": "7f25c1a7",
   "metadata": {},
   "outputs": [
    {
     "name": "stdout",
     "output_type": "stream",
     "text": [
      "[[ 0.          0.          0.         ...  0.          0.\n",
      "   0.        ]\n",
      " [ 0.41800001  0.24968    -0.41242    ... -0.18411    -0.11514\n",
      "  -0.78580999]\n",
      " [ 0.68046999 -0.039263    0.30186    ... -0.073297   -0.064699\n",
      "  -0.26043999]\n",
      " ...\n",
      " [-0.39359999  0.025387   -0.34753999 ... -1.22019994 -0.93142998\n",
      "  -0.29789999]\n",
      " [ 0.072997    0.033069    0.95832002 ...  0.28909001  0.15396\n",
      "   0.48139   ]\n",
      " [ 0.14022    -1.12510002  0.62690002 ...  0.79251999  0.44918001\n",
      "   0.42815   ]]\n"
     ]
    }
   ],
   "source": [
    "# Generating embeddings\n",
    "embeddings_matrix = np.zeros((vocab_size1+1, embedding_dim))\n",
    "for word, i in word_index1.items():\n",
    "    embedding_vector = embeddings_index.get(word)\n",
    "    if embedding_vector is not None:\n",
    "        embeddings_matrix[i] = embedding_vector\n",
    "print(embeddings_matrix)"
   ]
  },
  {
   "cell_type": "markdown",
   "id": "7e553cec",
   "metadata": {},
   "source": [
    "### Creating Model Architecture\n",
    "Now it’s time to introduce TensorFlow to create the model.  Here we use the TensorFlow embedding technique with Keras Embedding Layer where we map original input data into some set of real-valued dimensions."
   ]
  },
  {
   "cell_type": "code",
   "execution_count": 50,
   "id": "7ddc2e3f",
   "metadata": {},
   "outputs": [
    {
     "name": "stdout",
     "output_type": "stream",
     "text": [
      "Model: \"sequential\"\n",
      "_________________________________________________________________\n",
      " Layer (type)                Output Shape              Param #   \n",
      "=================================================================\n",
      " embedding (Embedding)       (None, 54, 50)            377600    \n",
      "                                                                 \n",
      " dropout (Dropout)           (None, 54, 50)            0         \n",
      "                                                                 \n",
      " conv1d (Conv1D)             (None, 50, 64)            16064     \n",
      "                                                                 \n",
      " max_pooling1d (MaxPooling1  (None, 12, 64)            0         \n",
      " D)                                                              \n",
      "                                                                 \n",
      " lstm (LSTM)                 (None, 64)                33024     \n",
      "                                                                 \n",
      " dense (Dense)               (None, 1)                 65        \n",
      "                                                                 \n",
      "=================================================================\n",
      "Total params: 426753 (1.63 MB)\n",
      "Trainable params: 49153 (192.00 KB)\n",
      "Non-trainable params: 377600 (1.44 MB)\n",
      "_________________________________________________________________\n"
     ]
    }
   ],
   "source": [
    "import tensorflow.compat.v1 as tf\n",
    "model = tf.keras.Sequential([\n",
    "\ttf.keras.layers.Embedding(vocab_size1+1, embedding_dim,\n",
    "\t\t\t\t\t\t\tinput_length=max_length, weights=[\n",
    "\t\t\t\t\t\t\t\tembeddings_matrix],\n",
    "\t\t\t\t\t\t\ttrainable=False),\n",
    "\ttf.keras.layers.Dropout(0.2),\n",
    "\ttf.keras.layers.Conv1D(64, 5, activation='relu'),\n",
    "\ttf.keras.layers.MaxPooling1D(pool_size=4),\n",
    "\ttf.keras.layers.LSTM(64),\n",
    "\ttf.keras.layers.Dense(1, activation='sigmoid')\n",
    "])\n",
    "model.compile(loss='binary_crossentropy',\n",
    "\t\t\toptimizer='adam', metrics=['accuracy'])\n",
    "model.summary()\n"
   ]
  },
  {
   "cell_type": "code",
   "execution_count": 53,
   "id": "c8a71751",
   "metadata": {},
   "outputs": [
    {
     "name": "stdout",
     "output_type": "stream",
     "text": [
      "Epoch 1/50\n",
      "85/85 - 6s - loss: 0.6591 - accuracy: 0.6033 - val_loss: 0.5866 - val_accuracy: 0.6767 - 6s/epoch - 67ms/step\n",
      "Epoch 2/50\n",
      "85/85 - 1s - loss: 0.5783 - accuracy: 0.6952 - val_loss: 0.5424 - val_accuracy: 0.6700 - 1s/epoch - 13ms/step\n",
      "Epoch 3/50\n",
      "85/85 - 1s - loss: 0.5347 - accuracy: 0.7300 - val_loss: 0.5324 - val_accuracy: 0.7267 - 1s/epoch - 13ms/step\n",
      "Epoch 4/50\n",
      "85/85 - 1s - loss: 0.4888 - accuracy: 0.7648 - val_loss: 0.5456 - val_accuracy: 0.7167 - 1s/epoch - 13ms/step\n",
      "Epoch 5/50\n",
      "85/85 - 1s - loss: 0.4465 - accuracy: 0.7948 - val_loss: 0.5509 - val_accuracy: 0.7233 - 1s/epoch - 13ms/step\n",
      "Epoch 6/50\n",
      "85/85 - 1s - loss: 0.3930 - accuracy: 0.8244 - val_loss: 0.5196 - val_accuracy: 0.7467 - 1s/epoch - 12ms/step\n",
      "Epoch 7/50\n",
      "85/85 - 1s - loss: 0.3592 - accuracy: 0.8478 - val_loss: 0.4811 - val_accuracy: 0.7633 - 1s/epoch - 13ms/step\n",
      "Epoch 8/50\n",
      "85/85 - 1s - loss: 0.3189 - accuracy: 0.8659 - val_loss: 0.5693 - val_accuracy: 0.7633 - 1s/epoch - 13ms/step\n",
      "Epoch 9/50\n",
      "85/85 - 1s - loss: 0.2885 - accuracy: 0.8811 - val_loss: 0.4996 - val_accuracy: 0.7733 - 1s/epoch - 12ms/step\n",
      "Epoch 10/50\n",
      "85/85 - 1s - loss: 0.2624 - accuracy: 0.8896 - val_loss: 0.5255 - val_accuracy: 0.7700 - 1s/epoch - 12ms/step\n",
      "Epoch 11/50\n",
      "85/85 - 1s - loss: 0.2329 - accuracy: 0.9115 - val_loss: 0.5984 - val_accuracy: 0.7433 - 1s/epoch - 13ms/step\n",
      "Epoch 12/50\n",
      "85/85 - 1s - loss: 0.2185 - accuracy: 0.9152 - val_loss: 0.6639 - val_accuracy: 0.7667 - 1s/epoch - 13ms/step\n",
      "Epoch 13/50\n",
      "85/85 - 1s - loss: 0.2127 - accuracy: 0.9122 - val_loss: 0.5885 - val_accuracy: 0.7567 - 1s/epoch - 13ms/step\n",
      "Epoch 14/50\n",
      "85/85 - 1s - loss: 0.1861 - accuracy: 0.9304 - val_loss: 0.6359 - val_accuracy: 0.7500 - 1s/epoch - 12ms/step\n",
      "Epoch 15/50\n",
      "85/85 - 1s - loss: 0.1954 - accuracy: 0.9219 - val_loss: 0.5938 - val_accuracy: 0.7567 - 1s/epoch - 12ms/step\n",
      "Epoch 16/50\n",
      "85/85 - 1s - loss: 0.1713 - accuracy: 0.9367 - val_loss: 0.6177 - val_accuracy: 0.7733 - 1s/epoch - 13ms/step\n",
      "Epoch 17/50\n",
      "85/85 - 1s - loss: 0.1772 - accuracy: 0.9337 - val_loss: 0.5740 - val_accuracy: 0.7600 - 1s/epoch - 13ms/step\n",
      "Epoch 18/50\n",
      "85/85 - 1s - loss: 0.1629 - accuracy: 0.9333 - val_loss: 0.5950 - val_accuracy: 0.7700 - 1s/epoch - 13ms/step\n",
      "Epoch 19/50\n",
      "85/85 - 1s - loss: 0.1505 - accuracy: 0.9426 - val_loss: 0.6077 - val_accuracy: 0.7633 - 1s/epoch - 12ms/step\n",
      "Epoch 20/50\n",
      "85/85 - 1s - loss: 0.1265 - accuracy: 0.9526 - val_loss: 0.7666 - val_accuracy: 0.7567 - 1s/epoch - 12ms/step\n",
      "Epoch 21/50\n",
      "85/85 - 1s - loss: 0.1150 - accuracy: 0.9570 - val_loss: 0.8603 - val_accuracy: 0.7600 - 1s/epoch - 12ms/step\n",
      "Epoch 22/50\n",
      "85/85 - 1s - loss: 0.1030 - accuracy: 0.9622 - val_loss: 0.6978 - val_accuracy: 0.7733 - 1s/epoch - 12ms/step\n",
      "Epoch 23/50\n",
      "85/85 - 1s - loss: 0.1132 - accuracy: 0.9585 - val_loss: 0.6781 - val_accuracy: 0.7600 - 1s/epoch - 13ms/step\n",
      "Epoch 24/50\n",
      "85/85 - 1s - loss: 0.1146 - accuracy: 0.9567 - val_loss: 0.6596 - val_accuracy: 0.7833 - 1s/epoch - 12ms/step\n",
      "Epoch 25/50\n",
      "85/85 - 1s - loss: 0.1356 - accuracy: 0.9493 - val_loss: 0.6504 - val_accuracy: 0.7800 - 1s/epoch - 12ms/step\n",
      "Epoch 26/50\n",
      "85/85 - 1s - loss: 0.1102 - accuracy: 0.9563 - val_loss: 0.6831 - val_accuracy: 0.7767 - 1s/epoch - 12ms/step\n",
      "Epoch 27/50\n",
      "85/85 - 1s - loss: 0.1014 - accuracy: 0.9604 - val_loss: 0.6786 - val_accuracy: 0.7667 - 1s/epoch - 12ms/step\n",
      "Epoch 28/50\n",
      "85/85 - 1s - loss: 0.0925 - accuracy: 0.9626 - val_loss: 0.8599 - val_accuracy: 0.7633 - 1s/epoch - 12ms/step\n",
      "Epoch 29/50\n",
      "85/85 - 1s - loss: 0.0837 - accuracy: 0.9667 - val_loss: 0.7955 - val_accuracy: 0.7500 - 1s/epoch - 13ms/step\n",
      "Epoch 30/50\n",
      "85/85 - 1s - loss: 0.1003 - accuracy: 0.9648 - val_loss: 0.8794 - val_accuracy: 0.7500 - 1s/epoch - 13ms/step\n",
      "Epoch 31/50\n",
      "85/85 - 1s - loss: 0.0909 - accuracy: 0.9607 - val_loss: 0.7661 - val_accuracy: 0.7667 - 1s/epoch - 12ms/step\n",
      "Epoch 32/50\n",
      "85/85 - 1s - loss: 0.0737 - accuracy: 0.9767 - val_loss: 0.8641 - val_accuracy: 0.7633 - 1s/epoch - 12ms/step\n",
      "Epoch 33/50\n",
      "85/85 - 1s - loss: 0.0869 - accuracy: 0.9700 - val_loss: 0.8718 - val_accuracy: 0.7633 - 1s/epoch - 13ms/step\n",
      "Epoch 34/50\n",
      "85/85 - 1s - loss: 0.0775 - accuracy: 0.9685 - val_loss: 0.8104 - val_accuracy: 0.7767 - 1s/epoch - 13ms/step\n",
      "Epoch 35/50\n",
      "85/85 - 1s - loss: 0.0875 - accuracy: 0.9685 - val_loss: 0.7595 - val_accuracy: 0.7600 - 1s/epoch - 13ms/step\n",
      "Epoch 36/50\n",
      "85/85 - 1s - loss: 0.0713 - accuracy: 0.9744 - val_loss: 0.8828 - val_accuracy: 0.7400 - 1s/epoch - 13ms/step\n",
      "Epoch 37/50\n",
      "85/85 - 1s - loss: 0.0827 - accuracy: 0.9681 - val_loss: 0.7540 - val_accuracy: 0.7600 - 1s/epoch - 13ms/step\n",
      "Epoch 38/50\n",
      "85/85 - 1s - loss: 0.0695 - accuracy: 0.9726 - val_loss: 0.8949 - val_accuracy: 0.7467 - 1s/epoch - 13ms/step\n",
      "Epoch 39/50\n",
      "85/85 - 1s - loss: 0.0754 - accuracy: 0.9707 - val_loss: 0.8377 - val_accuracy: 0.7667 - 1s/epoch - 13ms/step\n",
      "Epoch 40/50\n",
      "85/85 - 1s - loss: 0.0640 - accuracy: 0.9770 - val_loss: 0.8313 - val_accuracy: 0.7600 - 1s/epoch - 13ms/step\n",
      "Epoch 41/50\n",
      "85/85 - 1s - loss: 0.0694 - accuracy: 0.9744 - val_loss: 0.8785 - val_accuracy: 0.7433 - 988ms/epoch - 12ms/step\n",
      "Epoch 42/50\n",
      "85/85 - 1s - loss: 0.0706 - accuracy: 0.9767 - val_loss: 0.9142 - val_accuracy: 0.7567 - 1s/epoch - 12ms/step\n",
      "Epoch 43/50\n",
      "85/85 - 1s - loss: 0.0741 - accuracy: 0.9733 - val_loss: 0.8854 - val_accuracy: 0.7433 - 1s/epoch - 12ms/step\n",
      "Epoch 44/50\n",
      "85/85 - 1s - loss: 0.0639 - accuracy: 0.9767 - val_loss: 0.8270 - val_accuracy: 0.7667 - 1s/epoch - 13ms/step\n",
      "Epoch 45/50\n",
      "85/85 - 1s - loss: 0.0647 - accuracy: 0.9763 - val_loss: 1.0592 - val_accuracy: 0.7300 - 1s/epoch - 12ms/step\n",
      "Epoch 46/50\n",
      "85/85 - 1s - loss: 0.0583 - accuracy: 0.9796 - val_loss: 0.8857 - val_accuracy: 0.7600 - 1s/epoch - 12ms/step\n",
      "Epoch 47/50\n",
      "85/85 - 1s - loss: 0.0538 - accuracy: 0.9781 - val_loss: 0.8741 - val_accuracy: 0.7533 - 1s/epoch - 12ms/step\n",
      "Epoch 48/50\n",
      "85/85 - 1s - loss: 0.0570 - accuracy: 0.9811 - val_loss: 0.9802 - val_accuracy: 0.7600 - 1s/epoch - 12ms/step\n",
      "Epoch 49/50\n",
      "85/85 - 1s - loss: 0.0656 - accuracy: 0.9763 - val_loss: 0.7343 - val_accuracy: 0.7700 - 1s/epoch - 12ms/step\n",
      "Epoch 50/50\n",
      "85/85 - 1s - loss: 0.0714 - accuracy: 0.9737 - val_loss: 0.8490 - val_accuracy: 0.7533 - 1s/epoch - 12ms/step\n"
     ]
    }
   ],
   "source": [
    "num_epochs = 50\n",
    "\n",
    "training_padded = np.array(training_sequences1)\n",
    "training_labels = np.array(training_labels)\n",
    "testing_padded = np.array(test_sequences1)\n",
    "testing_labels = np.array(test_labels)\n",
    "\n",
    "history = model.fit(training_padded, training_labels,\n",
    "\t\t\t\t\tepochs=num_epochs,\n",
    "\t\t\t\t\tvalidation_data=(testing_padded,\n",
    "\t\t\t\t\t\t\t\t\ttesting_labels),\n",
    "\t\t\t\t\tverbose=2)\n"
   ]
  },
  {
   "cell_type": "code",
   "execution_count": 55,
   "id": "5a051622",
   "metadata": {},
   "outputs": [
    {
     "name": "stdout",
     "output_type": "stream",
     "text": [
      "This news is True\n"
     ]
    }
   ],
   "source": [
    "# sample text to check if fake or not\n",
    "X = \"Karry to go to France in gesture of sympathy\"\n",
    "  \n",
    "# detection\n",
    "sequences = tokenizer1.texts_to_sequences([X])[0]\n",
    "sequences = pad_sequences([sequences], maxlen=54,\n",
    "                          padding=padding_type, \n",
    "                          truncating=trunc_type)\n",
    "if(model.predict(sequences, verbose=0)[0][0] >= 0.5):\n",
    "    print(\"This news is True\")\n",
    "else:\n",
    "    print(\"This news is false\")"
   ]
  }
 ],
 "metadata": {
  "kernelspec": {
   "display_name": "Python 3 (ipykernel)",
   "language": "python",
   "name": "python3"
  },
  "language_info": {
   "codemirror_mode": {
    "name": "ipython",
    "version": 3
   },
   "file_extension": ".py",
   "mimetype": "text/x-python",
   "name": "python",
   "nbconvert_exporter": "python",
   "pygments_lexer": "ipython3",
   "version": "3.10.9"
  }
 },
 "nbformat": 4,
 "nbformat_minor": 5
}
