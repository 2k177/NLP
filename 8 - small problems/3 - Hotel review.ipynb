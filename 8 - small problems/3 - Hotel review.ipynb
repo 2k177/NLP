{
 "cells": [
  {
   "cell_type": "code",
   "execution_count": 1,
   "id": "2e8d7f6c",
   "metadata": {},
   "outputs": [],
   "source": [
    "import pandas as pd\n",
    "df = pd.read_csv(\"../TextFiles/hotel-review-train.csv\")"
   ]
  },
  {
   "cell_type": "code",
   "execution_count": 11,
   "id": "fd77877d",
   "metadata": {},
   "outputs": [],
   "source": [
    "def get_w2vdf(df):\n",
    "    w2v_df = pd.DataFrame(df[\"Description\"]).values.tolist()\n",
    "    for i in range(len(w2v_df)):\n",
    "        w2v_df[i] = w2v_df[i][0].split(\" \")\n",
    "#         print(w2v_df[i]) #['The', 'room', 'was', 'kind',....]\n",
    "    return w2v_df"
   ]
  },
  {
   "cell_type": "code",
   "execution_count": 17,
   "id": "973c2073",
   "metadata": {},
   "outputs": [],
   "source": [
    "#Preprocessing \n",
    "from nltk.corpus import stopwords\n",
    "import re\n",
    "\n",
    "def clean_data(text):\n",
    "    text = re.sub(r'[^ \\nA-Za-z0-9À-ÖØ-öø-ÿ/]+', '', text)\n",
    "    text = re.sub(r'[\\\\/×\\^\\]\\[÷]', '', text)\n",
    "    return text\n",
    "\n",
    "def change_lower(text):\n",
    "    text = text.lower()\n",
    "    return text\n",
    "\n",
    "stopwords_list = stopwords.words(\"english\")\n",
    "def remover(text):\n",
    "    text_tokens = text.split(\" \")\n",
    "    final_list = [word for word in text_tokens if not word in stopwords_list]\n",
    "    text = ' '.join(final_list)\n",
    "    return text\n",
    "\n",
    "df[[\"Description\"]] = df[[\"Description\"]].astype(str)\n",
    "df[\"Description\"] = df[\"Description\"].apply(change_lower)\n",
    "df[\"Description\"] = df[\"Description\"].apply(clean_data)\n",
    "df[\"Description\"] = df[\"Description\"].apply(remover)"
   ]
  },
  {
   "cell_type": "code",
   "execution_count": 18,
   "id": "de241911",
   "metadata": {},
   "outputs": [],
   "source": [
    "w2v_df = get_w2vdf(df)"
   ]
  },
  {
   "cell_type": "code",
   "execution_count": 22,
   "id": "3045f0dc",
   "metadata": {},
   "outputs": [],
   "source": [
    "from gensim.models import Word2Vec\n",
    "import multiprocessing\n",
    "\n",
    "def train_w2v(w2v_df):\n",
    "    \"\"\"\n",
    "    min_count: The minimum number of occurrences of \n",
    "    the target word in the corpus. \n",
    "    large corpus high limit increases success\n",
    "    keep it small for small datasets.\n",
    "    \n",
    "    window: It is the number of neighboring words that \n",
    "    will directly affect the vector calculations of \n",
    "    the target expression\n",
    "    \n",
    "    size : It is the size of the vector to be created \n",
    "    for each element.\n",
    "    \n",
    "    alpha : Initial learning rate\n",
    "    \n",
    "    min_alpha : It is the minimum value at which the \n",
    "    learning rate will decrease linearly during training.\n",
    "    \n",
    "    sg : Specifies how the training algorithm will work. \n",
    "    If value of sg is 1, skip-gram algorithm is used, \n",
    "    otherwise the CBOW algorithm is used.\n",
    "    \"\"\"\n",
    "    cores = multiprocessing.cpu_count()\n",
    "    w2v_model = Word2Vec(min_count=4,\n",
    "                         window=4,\n",
    "                         vector_size=300, \n",
    "                         alpha=0.03, \n",
    "                         min_alpha=0.0007, \n",
    "                         sg = 1,\n",
    "                         workers=cores-1)\n",
    "    w2v_model.build_vocab(w2v_df, progress_per=10000)\n",
    "    w2v_model.train(w2v_df, total_examples=w2v_model.corpus_count, epochs=100, report_delay=1)\n",
    "    return w2v_model\n",
    "    \n",
    "w2v_model = train_w2v(w2v_df)"
   ]
  },
  {
   "cell_type": "code",
   "execution_count": 27,
   "id": "76b01ffc",
   "metadata": {},
   "outputs": [
    {
     "data": {
      "text/plain": [
       "array([-9.61987209e-03,  1.02379218e-01,  1.59424603e-01,  4.93593514e-02,\n",
       "       -7.78454766e-02,  1.00491092e-01,  2.31843237e-02,  2.81850785e-01,\n",
       "       -5.16340137e-02, -3.69267724e-02,  4.30848822e-02, -2.58787572e-01,\n",
       "       -7.56992176e-02, -1.39572993e-01, -1.42266169e-01, -1.61861882e-01,\n",
       "        8.89398530e-02,  9.01437737e-03,  1.61843255e-01,  8.66483301e-02,\n",
       "       -1.93523765e-01,  1.32635355e-01, -8.28197226e-02,  3.50892469e-02,\n",
       "        1.78847998e-01,  1.17240220e-01, -1.55176535e-01, -6.86076358e-02,\n",
       "        3.61523271e-04,  6.40983693e-03, -1.06722713e-02,  5.47895469e-02,\n",
       "        4.03645374e-02,  1.53935671e-01,  1.68180920e-03, -1.03976250e-01,\n",
       "       -3.54887396e-02, -1.13739111e-01, -3.15207131e-02,  8.18280429e-02,\n",
       "       -2.44706914e-01, -4.39523198e-02,  9.72939506e-02, -7.56599102e-03,\n",
       "        1.12471908e-01,  1.02618553e-01, -7.78855383e-02, -4.94308844e-02,\n",
       "       -2.96135508e-02,  1.24883719e-01,  3.18891630e-02, -6.82802126e-02,\n",
       "       -5.31772617e-03,  6.13102652e-02,  1.75357103e-01,  3.80379856e-02,\n",
       "       -1.35413036e-01,  7.43054971e-02,  5.67486547e-02, -1.26289204e-01,\n",
       "       -7.27289915e-02, -1.00651123e-01,  3.85609232e-02,  9.74132940e-02,\n",
       "        9.34195817e-02, -9.68993753e-02, -3.78334969e-02,  5.48273250e-02,\n",
       "       -1.11671202e-01, -1.19209923e-01, -8.74482691e-02, -1.57318208e-02,\n",
       "        1.66602060e-02, -1.63462788e-01, -6.14557266e-02,  3.63159366e-02,\n",
       "        1.41871348e-01, -1.64831318e-02, -1.07522041e-01,  9.75051746e-02,\n",
       "       -1.31496051e-02,  4.31543030e-02, -1.70986101e-01,  2.04236969e-01,\n",
       "        1.78241823e-03,  4.68395874e-02, -6.26604557e-02,  1.01360343e-01,\n",
       "        2.17745319e-01,  2.09642753e-01,  1.40419632e-01, -2.07037210e-01,\n",
       "        2.22481102e-01, -2.73397155e-02,  6.68902099e-02, -5.91120198e-02,\n",
       "        1.13174871e-01,  1.54851507e-02,  1.24212094e-01,  1.38159543e-01,\n",
       "       -6.33076429e-02, -1.26886750e-02,  3.38598900e-02, -2.16492056e-03,\n",
       "       -7.46543780e-02, -1.27031580e-01, -7.17830053e-03,  9.26831588e-02,\n",
       "       -5.68269007e-02, -8.87781009e-02, -1.01999201e-01, -4.76396270e-02,\n",
       "       -1.95993036e-01,  6.03226088e-02,  2.09510684e-01,  7.71763502e-04,\n",
       "       -1.78341020e-03,  1.31796584e-01,  5.51440381e-03, -1.66649088e-01,\n",
       "       -1.15220360e-01,  1.59299374e-01,  4.91706654e-03, -2.28616431e-01,\n",
       "        3.37786367e-03,  2.00059891e-01, -7.38674998e-02, -6.57756105e-02,\n",
       "        8.77929032e-02,  1.50489792e-01,  1.28525585e-01,  1.16939425e-01,\n",
       "        3.63434106e-02,  1.74975350e-01,  4.70965140e-04, -1.08356461e-01,\n",
       "        3.62702459e-02,  4.34001051e-02, -6.22335337e-02,  7.94434324e-02,\n",
       "        5.43346107e-02, -4.33478169e-02, -9.04813781e-02, -1.93596575e-02,\n",
       "        1.42429948e-01, -1.65268317e-01, -9.38694105e-02, -1.63484290e-02,\n",
       "        8.27929825e-02, -5.39455116e-02, -2.69372970e-01, -1.08739167e-01,\n",
       "       -1.58715814e-01,  6.59333915e-02,  1.10758066e-01,  1.38573214e-01,\n",
       "       -1.45714372e-01, -1.52682245e-01, -1.80787310e-01,  3.18993062e-01,\n",
       "       -1.40960127e-01,  7.67810941e-02, -1.58680826e-01,  1.28186136e-01,\n",
       "       -2.38656685e-01,  1.27828091e-01, -8.96912441e-02,  3.99763659e-02,\n",
       "       -9.78008360e-02,  1.12926356e-01, -8.27023387e-02, -1.14189775e-03,\n",
       "       -5.74320666e-02, -1.57465488e-02, -1.77518949e-01, -1.69547368e-02,\n",
       "        4.27493341e-02, -5.80353849e-02,  9.09799188e-02,  1.04991436e-01,\n",
       "        6.15729466e-02, -1.05449066e-01,  1.07351489e-01, -8.84639286e-03,\n",
       "       -6.79380670e-02,  1.64569825e-01,  2.92332917e-01, -4.09560837e-03,\n",
       "       -4.37281840e-02, -3.73967826e-01,  1.65532216e-01,  5.87198660e-02,\n",
       "        2.36900195e-01,  9.70167071e-02,  7.34607428e-02, -1.21622168e-01,\n",
       "        2.62946486e-02,  1.60036996e-01, -1.29289716e-01,  1.37091473e-01,\n",
       "       -9.63443518e-02,  1.06632896e-01, -5.07420078e-02,  7.55683929e-02,\n",
       "        3.29404809e-02, -3.61807831e-02,  5.07412031e-02, -3.60225476e-02,\n",
       "        2.24288568e-01,  8.00023973e-02,  7.48892128e-03,  7.80637190e-02,\n",
       "        5.58579788e-02,  3.87713052e-02, -1.86950281e-01, -1.96667612e-01,\n",
       "       -1.23249397e-01, -1.38380686e-02, -2.54400205e-02, -4.08549942e-02,\n",
       "        1.68103591e-01, -5.98889515e-02,  1.81818232e-01,  1.50726825e-01,\n",
       "       -1.78290442e-01,  1.54466564e-02,  1.71276376e-01, -5.69315366e-02,\n",
       "       -1.15844779e-01,  1.50174499e-01,  2.55884156e-02, -1.33252755e-01,\n",
       "        7.47630373e-03, -1.68559551e-01, -1.65285147e-03,  3.72112915e-02,\n",
       "       -1.01686493e-01,  1.38354555e-01,  7.94631522e-03, -1.16706364e-01,\n",
       "        1.44835472e-01, -1.45069867e-01, -6.01215884e-02,  1.37975803e-02,\n",
       "       -3.70461121e-02, -6.43147854e-03,  9.41094458e-02, -9.76360291e-02,\n",
       "        1.40369490e-01, -2.91097816e-02,  6.75868914e-02,  3.09124067e-02,\n",
       "        9.34151486e-02, -3.94306369e-02, -2.89955121e-02, -9.04319994e-03,\n",
       "        1.77554131e-01,  1.07598426e-02, -1.13309972e-01, -1.43889442e-01,\n",
       "        1.16328016e-01,  1.29375281e-02,  1.17526449e-01, -2.55865514e-01,\n",
       "       -5.15935346e-02,  1.76458463e-01, -4.16410267e-02,  5.07797971e-02,\n",
       "       -1.15519678e-02, -3.03536832e-01, -3.37795734e-01, -8.30506831e-02,\n",
       "        7.52776563e-02, -2.02681180e-02, -8.97697508e-02,  1.63098443e-02,\n",
       "        1.82316359e-02,  1.47635758e-01, -1.24989912e-01, -6.69951178e-03,\n",
       "       -9.79332328e-02, -1.99851543e-01, -6.47328719e-02,  1.36171818e-01,\n",
       "        1.39254257e-01, -8.75858888e-02,  9.71326698e-03,  4.28207219e-02,\n",
       "       -1.44727215e-01, -1.68077007e-01,  1.00283094e-01, -1.31213024e-01,\n",
       "       -1.44106373e-01, -7.07055405e-02,  9.03806761e-02, -7.90497735e-02,\n",
       "       -2.13340577e-02,  7.99353644e-02,  8.57708901e-02,  1.74959004e-01],\n",
       "      dtype=float32)"
      ]
     },
     "execution_count": 27,
     "metadata": {},
     "output_type": "execute_result"
    }
   ],
   "source": [
    "w2v_model.wv.get_vector(\"great\")"
   ]
  },
  {
   "cell_type": "code",
   "execution_count": 28,
   "id": "ebd451c2",
   "metadata": {},
   "outputs": [
    {
     "data": {
      "text/plain": [
       "300"
      ]
     },
     "execution_count": 28,
     "metadata": {},
     "output_type": "execute_result"
    }
   ],
   "source": [
    "len(w2v_model.wv.get_vector(\"great\"))"
   ]
  },
  {
   "cell_type": "code",
   "execution_count": 29,
   "id": "f63d6cfa",
   "metadata": {},
   "outputs": [
    {
     "data": {
      "text/plain": [
       "[('good', 0.7016151547431946),\n",
       " ('excellent', 0.6685694456100464),\n",
       " ('wonderful', 0.6236960291862488),\n",
       " ('fantastic', 0.6147310137748718),\n",
       " ('nice', 0.5785568952560425),\n",
       " ('amazing', 0.5357890129089355),\n",
       " ('perfect', 0.5231554508209229),\n",
       " ('awesome', 0.5192371606826782),\n",
       " ('fabulous', 0.48088306188583374),\n",
       " ('terrific', 0.4674989879131317)]"
      ]
     },
     "execution_count": 29,
     "metadata": {},
     "output_type": "execute_result"
    }
   ],
   "source": [
    "w2v_model.wv.most_similar(positive=[\"great\"])"
   ]
  },
  {
   "cell_type": "code",
   "execution_count": 31,
   "id": "25d944c3",
   "metadata": {},
   "outputs": [
    {
     "data": {
      "text/plain": [
       "[('wife', 0.6497529745101929),\n",
       " ('boyfriend', 0.46188926696777344),\n",
       " ('girlfriend', 0.4330250024795532),\n",
       " ('son', 0.42851123213768005),\n",
       " ('daugther', 0.4112330973148346),\n",
       " ('daughter', 0.4013725519180298),\n",
       " ('partner', 0.39843371510505676),\n",
       " ('mother', 0.39489102363586426),\n",
       " ('spouse', 0.36922213435173035),\n",
       " ('friend', 0.3613705039024353)]"
      ]
     },
     "execution_count": 31,
     "metadata": {},
     "output_type": "execute_result"
    }
   ],
   "source": [
    "w2v_model.wv.most_similar(positive=[\"husband\"])"
   ]
  },
  {
   "cell_type": "code",
   "execution_count": 32,
   "id": "0e0ed008",
   "metadata": {},
   "outputs": [
    {
     "data": {
      "text/plain": [
       "[('property', 0.5878936648368835),\n",
       " ('hotels', 0.47673025727272034),\n",
       " ('place', 0.46287646889686584),\n",
       " ('location', 0.4345657527446747),\n",
       " ('motel', 0.4076734781265259),\n",
       " ('stay', 0.38551947474479675),\n",
       " ('facility', 0.3808191120624542),\n",
       " ('halcyon', 0.36929813027381897),\n",
       " ('academic', 0.36583253741264343),\n",
       " ('griffon', 0.36425426602363586)]"
      ]
     },
     "execution_count": 32,
     "metadata": {},
     "output_type": "execute_result"
    }
   ],
   "source": [
    "w2v_model.wv.most_similar(positive=[\"hotel\"])"
   ]
  },
  {
   "cell_type": "code",
   "execution_count": 33,
   "id": "f81a15a7",
   "metadata": {},
   "outputs": [
    {
     "data": {
      "text/plain": [
       "[('seattle', 0.47903019189834595),\n",
       " ('dc', 0.4526003301143646),\n",
       " ('copley', 0.4485768675804138),\n",
       " ('quincy', 0.4480293393135071),\n",
       " ('newbury', 0.42844507098197937),\n",
       " ('fenway', 0.4228980839252472),\n",
       " ('chicago', 0.4223571717739105),\n",
       " ('commons', 0.4186369478702545),\n",
       " ('philly', 0.4021013081073761),\n",
       " ('dallas', 0.3848699629306793)]"
      ]
     },
     "execution_count": 33,
     "metadata": {},
     "output_type": "execute_result"
    }
   ],
   "source": [
    "w2v_model.wv.most_similar(positive=[\"boston\"])"
   ]
  },
  {
   "cell_type": "code",
   "execution_count": 34,
   "id": "fd2d19e7",
   "metadata": {},
   "outputs": [
    {
     "data": {
      "text/plain": [
       "[('parking', 0.6088953018188477),\n",
       " ('garage', 0.46016934514045715),\n",
       " ('car', 0.43681827187538147),\n",
       " ('self', 0.4172986149787903),\n",
       " ('parked', 0.3999088704586029),\n",
       " ('priviledges', 0.3933953642845154),\n",
       " ('privledges', 0.3904281556606293),\n",
       " ('valets', 0.388712614774704),\n",
       " ('inout', 0.37371209263801575),\n",
       " ('parking\\noverall', 0.37307727336883545)]"
      ]
     },
     "execution_count": 34,
     "metadata": {},
     "output_type": "execute_result"
    }
   ],
   "source": [
    "w2v_model.wv.most_similar(positive=[\"valet\"])"
   ]
  },
  {
   "cell_type": "code",
   "execution_count": 35,
   "id": "53006ef5",
   "metadata": {},
   "outputs": [
    {
     "data": {
      "text/plain": [
       "[('street', 0.48912009596824646),\n",
       " ('highway', 0.4085976779460907),\n",
       " ('freeway', 0.36973994970321655),\n",
       " ('rosecrans', 0.36814284324645996),\n",
       " ('expressway', 0.3667968809604645),\n",
       " ('sepulveda', 0.3662998378276825),\n",
       " ('warrior', 0.3662107288837433),\n",
       " ('across', 0.34583133459091187),\n",
       " ('trecolori', 0.30878928303718567),\n",
       " ('trattoria', 0.30718088150024414)]"
      ]
     },
     "execution_count": 35,
     "metadata": {},
     "output_type": "execute_result"
    }
   ],
   "source": [
    "w2v_model.wv.most_similar(positive=[\"road\"])"
   ]
  },
  {
   "cell_type": "code",
   "execution_count": 36,
   "id": "87dfa1f2",
   "metadata": {},
   "outputs": [
    {
     "data": {
      "text/plain": [
       "[('service', 0.471053808927536),\n",
       " ('blames', 0.3998851776123047),\n",
       " ('salesman', 0.3910908102989197),\n",
       " ('competence', 0.37737327814102173),\n",
       " ('attitude', 0.3760489821434021),\n",
       " ('professionalism', 0.37020155787467957),\n",
       " ('hospitality', 0.3675953447818756),\n",
       " ('costumer', 0.3628304600715637),\n",
       " ('recognizes', 0.35927265882492065),\n",
       " ('skills', 0.3562058210372925)]"
      ]
     },
     "execution_count": 36,
     "metadata": {},
     "output_type": "execute_result"
    }
   ],
   "source": [
    "w2v_model.wv.most_similar(positive=[\"customer\"])"
   ]
  },
  {
   "cell_type": "code",
   "execution_count": 44,
   "id": "6787b000",
   "metadata": {},
   "outputs": [
    {
     "ename": "KeyError",
     "evalue": "\"Key 'tery' not present in vocabulary\"",
     "output_type": "error",
     "traceback": [
      "\u001b[1;31m---------------------------------------------------------------------------\u001b[0m",
      "\u001b[1;31mKeyError\u001b[0m                                  Traceback (most recent call last)",
      "Cell \u001b[1;32mIn[44], line 1\u001b[0m\n\u001b[1;32m----> 1\u001b[0m \u001b[43mw2v_model\u001b[49m\u001b[38;5;241;43m.\u001b[39;49m\u001b[43mwv\u001b[49m\u001b[38;5;241;43m.\u001b[39;49m\u001b[43mmost_similar\u001b[49m\u001b[43m(\u001b[49m\u001b[43mpositive\u001b[49m\u001b[38;5;241;43m=\u001b[39;49m\u001b[43m[\u001b[49m\u001b[38;5;124;43m\"\u001b[39;49m\u001b[38;5;124;43mtery\u001b[39;49m\u001b[38;5;124;43m\"\u001b[39;49m\u001b[43m]\u001b[49m\u001b[43m)\u001b[49m\n",
      "File \u001b[1;32m~\\AppData\\Local\\anaconda3\\lib\\site-packages\\gensim\\models\\keyedvectors.py:841\u001b[0m, in \u001b[0;36mKeyedVectors.most_similar\u001b[1;34m(self, positive, negative, topn, clip_start, clip_end, restrict_vocab, indexer)\u001b[0m\n\u001b[0;32m    838\u001b[0m         weight[idx] \u001b[38;5;241m=\u001b[39m item[\u001b[38;5;241m1\u001b[39m]\n\u001b[0;32m    840\u001b[0m \u001b[38;5;66;03m# compute the weighted average of all keys\u001b[39;00m\n\u001b[1;32m--> 841\u001b[0m mean \u001b[38;5;241m=\u001b[39m \u001b[38;5;28;43mself\u001b[39;49m\u001b[38;5;241;43m.\u001b[39;49m\u001b[43mget_mean_vector\u001b[49m\u001b[43m(\u001b[49m\u001b[43mkeys\u001b[49m\u001b[43m,\u001b[49m\u001b[43m \u001b[49m\u001b[43mweight\u001b[49m\u001b[43m,\u001b[49m\u001b[43m \u001b[49m\u001b[43mpre_normalize\u001b[49m\u001b[38;5;241;43m=\u001b[39;49m\u001b[38;5;28;43;01mTrue\u001b[39;49;00m\u001b[43m,\u001b[49m\u001b[43m \u001b[49m\u001b[43mpost_normalize\u001b[49m\u001b[38;5;241;43m=\u001b[39;49m\u001b[38;5;28;43;01mTrue\u001b[39;49;00m\u001b[43m,\u001b[49m\u001b[43m \u001b[49m\u001b[43mignore_missing\u001b[49m\u001b[38;5;241;43m=\u001b[39;49m\u001b[38;5;28;43;01mFalse\u001b[39;49;00m\u001b[43m)\u001b[49m\n\u001b[0;32m    842\u001b[0m all_keys \u001b[38;5;241m=\u001b[39m [\n\u001b[0;32m    843\u001b[0m     \u001b[38;5;28mself\u001b[39m\u001b[38;5;241m.\u001b[39mget_index(key) \u001b[38;5;28;01mfor\u001b[39;00m key \u001b[38;5;129;01min\u001b[39;00m keys \u001b[38;5;28;01mif\u001b[39;00m \u001b[38;5;28misinstance\u001b[39m(key, _KEY_TYPES) \u001b[38;5;129;01mand\u001b[39;00m \u001b[38;5;28mself\u001b[39m\u001b[38;5;241m.\u001b[39mhas_index_for(key)\n\u001b[0;32m    844\u001b[0m ]\n\u001b[0;32m    846\u001b[0m \u001b[38;5;28;01mif\u001b[39;00m indexer \u001b[38;5;129;01mis\u001b[39;00m \u001b[38;5;129;01mnot\u001b[39;00m \u001b[38;5;28;01mNone\u001b[39;00m \u001b[38;5;129;01mand\u001b[39;00m \u001b[38;5;28misinstance\u001b[39m(topn, \u001b[38;5;28mint\u001b[39m):\n",
      "File \u001b[1;32m~\\AppData\\Local\\anaconda3\\lib\\site-packages\\gensim\\models\\keyedvectors.py:518\u001b[0m, in \u001b[0;36mKeyedVectors.get_mean_vector\u001b[1;34m(self, keys, weights, pre_normalize, post_normalize, ignore_missing)\u001b[0m\n\u001b[0;32m    516\u001b[0m         total_weight \u001b[38;5;241m+\u001b[39m\u001b[38;5;241m=\u001b[39m \u001b[38;5;28mabs\u001b[39m(weights[idx])\n\u001b[0;32m    517\u001b[0m     \u001b[38;5;28;01melif\u001b[39;00m \u001b[38;5;129;01mnot\u001b[39;00m ignore_missing:\n\u001b[1;32m--> 518\u001b[0m         \u001b[38;5;28;01mraise\u001b[39;00m \u001b[38;5;167;01mKeyError\u001b[39;00m(\u001b[38;5;124mf\u001b[39m\u001b[38;5;124m\"\u001b[39m\u001b[38;5;124mKey \u001b[39m\u001b[38;5;124m'\u001b[39m\u001b[38;5;132;01m{\u001b[39;00mkey\u001b[38;5;132;01m}\u001b[39;00m\u001b[38;5;124m'\u001b[39m\u001b[38;5;124m not present in vocabulary\u001b[39m\u001b[38;5;124m\"\u001b[39m)\n\u001b[0;32m    520\u001b[0m \u001b[38;5;28;01mif\u001b[39;00m total_weight \u001b[38;5;241m>\u001b[39m \u001b[38;5;241m0\u001b[39m:\n\u001b[0;32m    521\u001b[0m     mean \u001b[38;5;241m=\u001b[39m mean \u001b[38;5;241m/\u001b[39m total_weight\n",
      "\u001b[1;31mKeyError\u001b[0m: \"Key 'tery' not present in vocabulary\""
     ]
    }
   ],
   "source": [
    "w2v_model.wv.most_similar(positive=[\"tery\"]) #word that ain't present in the model"
   ]
  },
  {
   "cell_type": "code",
   "execution_count": null,
   "id": "e111cbd5",
   "metadata": {},
   "outputs": [],
   "source": [
    "w2v_model.wv."
   ]
  }
 ],
 "metadata": {
  "kernelspec": {
   "display_name": "Python 3 (ipykernel)",
   "language": "python",
   "name": "python3"
  },
  "language_info": {
   "codemirror_mode": {
    "name": "ipython",
    "version": 3
   },
   "file_extension": ".py",
   "mimetype": "text/x-python",
   "name": "python",
   "nbconvert_exporter": "python",
   "pygments_lexer": "ipython3",
   "version": "3.10.9"
  }
 },
 "nbformat": 4,
 "nbformat_minor": 5
}
